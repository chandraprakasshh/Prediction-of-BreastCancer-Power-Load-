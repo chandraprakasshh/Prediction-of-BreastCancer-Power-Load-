{
 "cells": [
  {
   "cell_type": "code",
   "execution_count": 1,
   "metadata": {},
   "outputs": [
    {
     "name": "stdout",
     "output_type": "stream",
     "text": [
      "Xtrain shape (30, 400)\n",
      "Xtrain shape after reshape (400, 30)\n",
      "ytrain shape (1, 400)\n",
      "ytrain shape after reshape (400,)\n",
      "Xtrain\n",
      "[[1.453e+01 1.398e+01 9.386e+01 6.442e+02 1.099e-01 9.242e-02 6.895e-02\n",
      "  6.495e-02 1.650e-01 6.121e-02]\n",
      " [1.136e+01 1.757e+01 7.249e+01 3.998e+02 8.858e-02 5.313e-02 2.783e-02\n",
      "  2.100e-02 1.601e-01 5.913e-02]\n",
      " [1.768e+01 2.074e+01 1.174e+02 9.637e+02 1.115e-01 1.665e-01 1.855e-01\n",
      "  1.054e-01 1.971e-01 6.166e-02]\n",
      " [1.902e+01 2.459e+01 1.220e+02 1.076e+03 9.029e-02 1.206e-01 1.468e-01\n",
      "  8.271e-02 1.953e-01 5.629e-02]\n",
      " [2.048e+01 2.146e+01 1.325e+02 1.306e+03 8.355e-02 8.348e-02 9.042e-02\n",
      "  6.022e-02 1.467e-01 5.177e-02]]\n",
      "ytrain\n",
      "[0 0 1 1 1 1 0 1 0 0]\n"
     ]
    }
   ],
   "source": [
    "%matplotlib notebook\n",
    "import matplotlib.pylab as plt\n",
    "import matplotlib.pyplot as plt\n",
    "import numpy as np\n",
    "from scipy.io import loadmat\n",
    "import pandas as pd\n",
    "\n",
    "# Loading the data file\n",
    "mat = loadmat(\"cancerWTrain.mat\")\n",
    "\n",
    "Xtrain = mat[\"cancerTrainX\"] # matrix of 30 rows and 400 features\n",
    "print(\"Xtrain shape\",Xtrain.shape)\n",
    "Xtrain = np.transpose(Xtrain)\n",
    "n=len(Xtrain)\n",
    "print(\"Xtrain shape after reshape\",Xtrain.shape)\n",
    "\n",
    "ytrain = mat[\"cancerTrainY\"] # matrix of 1 rows and 400 features\n",
    "print(\"ytrain shape\",ytrain.shape)\n",
    "ytrain = np.ravel(ytrain)\n",
    "#ytrain = ytrain.reshape(n,1)\n",
    "print(\"ytrain shape after reshape\",ytrain.shape)\n",
    "\n",
    "print(\"Xtrain\")\n",
    "print(Xtrain[:5,:10])\n",
    "print(\"ytrain\")\n",
    "print(ytrain[:10])"
   ]
  },
  {
   "cell_type": "code",
   "execution_count": 2,
   "metadata": {},
   "outputs": [
    {
     "name": "stdout",
     "output_type": "stream",
     "text": [
      "[[ 0.11460184 -1.24395724  0.07895931 -0.03005724  0.96753454]\n",
      " [-0.80287855 -0.39483967 -0.81669104 -0.72915924 -0.52140722]\n",
      " [ 1.02629371  0.35493824  1.06555778  0.88386702  1.07927501]\n",
      " [ 1.41412453  1.26555179  1.25835102  1.20509924 -0.40198459]\n",
      " [ 1.83668648  0.5252348   1.69842255  1.86301029 -0.87269132]]\n"
     ]
    }
   ],
   "source": [
    "#If the difference between features values is very high, Standard scaling is required, otherwise not required. (preprocessing)\n",
    "from sklearn.preprocessing import StandardScaler\n",
    "\n",
    "scaler = StandardScaler()\n",
    "X_normalize = scaler.fit_transform(Xtrain)\n",
    "print(X_normalize[:5,:5])"
   ]
  },
  {
   "cell_type": "code",
   "execution_count": 3,
   "metadata": {},
   "outputs": [
    {
     "name": "stdout",
     "output_type": "stream",
     "text": [
      "(400, 30)\n",
      "(400, 30)\n",
      "(400, 2)\n",
      "(400,)\n",
      "[[-1.07976537 -0.42205276]\n",
      " [-2.85194933 -0.37931792]\n",
      " [ 4.1668597  -0.38664797]\n",
      " [ 3.68937737 -2.15549683]\n",
      " [ 2.69525946 -3.94834452]]\n",
      "[0 0 1 1 1]\n"
     ]
    }
   ],
   "source": [
    "from sklearn.decomposition import PCA\n",
    "pca =PCA(n_components=2) #n_components, it means the whole features are decomposed into 2 features\n",
    "pca.fit(X_normalize)\n",
    "Xtrain_pca=pca.transform(X_normalize)\n",
    "print(X_normalize.shape)\n",
    "print(Xtrain.shape)\n",
    "print(Xtrain_pca.shape)\n",
    "print(ytrain.shape)\n",
    "print(Xtrain_pca[:5])\n",
    "print(ytrain[:5])"
   ]
  },
  {
   "cell_type": "code",
   "execution_count": 4,
   "metadata": {},
   "outputs": [
    {
     "data": {
      "application/javascript": [
       "/* Put everything inside the global mpl namespace */\n",
       "window.mpl = {};\n",
       "\n",
       "\n",
       "mpl.get_websocket_type = function() {\n",
       "    if (typeof(WebSocket) !== 'undefined') {\n",
       "        return WebSocket;\n",
       "    } else if (typeof(MozWebSocket) !== 'undefined') {\n",
       "        return MozWebSocket;\n",
       "    } else {\n",
       "        alert('Your browser does not have WebSocket support. ' +\n",
       "              'Please try Chrome, Safari or Firefox ≥ 6. ' +\n",
       "              'Firefox 4 and 5 are also supported but you ' +\n",
       "              'have to enable WebSockets in about:config.');\n",
       "    };\n",
       "}\n",
       "\n",
       "mpl.figure = function(figure_id, websocket, ondownload, parent_element) {\n",
       "    this.id = figure_id;\n",
       "\n",
       "    this.ws = websocket;\n",
       "\n",
       "    this.supports_binary = (this.ws.binaryType != undefined);\n",
       "\n",
       "    if (!this.supports_binary) {\n",
       "        var warnings = document.getElementById(\"mpl-warnings\");\n",
       "        if (warnings) {\n",
       "            warnings.style.display = 'block';\n",
       "            warnings.textContent = (\n",
       "                \"This browser does not support binary websocket messages. \" +\n",
       "                    \"Performance may be slow.\");\n",
       "        }\n",
       "    }\n",
       "\n",
       "    this.imageObj = new Image();\n",
       "\n",
       "    this.context = undefined;\n",
       "    this.message = undefined;\n",
       "    this.canvas = undefined;\n",
       "    this.rubberband_canvas = undefined;\n",
       "    this.rubberband_context = undefined;\n",
       "    this.format_dropdown = undefined;\n",
       "\n",
       "    this.image_mode = 'full';\n",
       "\n",
       "    this.root = $('<div/>');\n",
       "    this._root_extra_style(this.root)\n",
       "    this.root.attr('style', 'display: inline-block');\n",
       "\n",
       "    $(parent_element).append(this.root);\n",
       "\n",
       "    this._init_header(this);\n",
       "    this._init_canvas(this);\n",
       "    this._init_toolbar(this);\n",
       "\n",
       "    var fig = this;\n",
       "\n",
       "    this.waiting = false;\n",
       "\n",
       "    this.ws.onopen =  function () {\n",
       "            fig.send_message(\"supports_binary\", {value: fig.supports_binary});\n",
       "            fig.send_message(\"send_image_mode\", {});\n",
       "            if (mpl.ratio != 1) {\n",
       "                fig.send_message(\"set_dpi_ratio\", {'dpi_ratio': mpl.ratio});\n",
       "            }\n",
       "            fig.send_message(\"refresh\", {});\n",
       "        }\n",
       "\n",
       "    this.imageObj.onload = function() {\n",
       "            if (fig.image_mode == 'full') {\n",
       "                // Full images could contain transparency (where diff images\n",
       "                // almost always do), so we need to clear the canvas so that\n",
       "                // there is no ghosting.\n",
       "                fig.context.clearRect(0, 0, fig.canvas.width, fig.canvas.height);\n",
       "            }\n",
       "            fig.context.drawImage(fig.imageObj, 0, 0);\n",
       "        };\n",
       "\n",
       "    this.imageObj.onunload = function() {\n",
       "        fig.ws.close();\n",
       "    }\n",
       "\n",
       "    this.ws.onmessage = this._make_on_message_function(this);\n",
       "\n",
       "    this.ondownload = ondownload;\n",
       "}\n",
       "\n",
       "mpl.figure.prototype._init_header = function() {\n",
       "    var titlebar = $(\n",
       "        '<div class=\"ui-dialog-titlebar ui-widget-header ui-corner-all ' +\n",
       "        'ui-helper-clearfix\"/>');\n",
       "    var titletext = $(\n",
       "        '<div class=\"ui-dialog-title\" style=\"width: 100%; ' +\n",
       "        'text-align: center; padding: 3px;\"/>');\n",
       "    titlebar.append(titletext)\n",
       "    this.root.append(titlebar);\n",
       "    this.header = titletext[0];\n",
       "}\n",
       "\n",
       "\n",
       "\n",
       "mpl.figure.prototype._canvas_extra_style = function(canvas_div) {\n",
       "\n",
       "}\n",
       "\n",
       "\n",
       "mpl.figure.prototype._root_extra_style = function(canvas_div) {\n",
       "\n",
       "}\n",
       "\n",
       "mpl.figure.prototype._init_canvas = function() {\n",
       "    var fig = this;\n",
       "\n",
       "    var canvas_div = $('<div/>');\n",
       "\n",
       "    canvas_div.attr('style', 'position: relative; clear: both; outline: 0');\n",
       "\n",
       "    function canvas_keyboard_event(event) {\n",
       "        return fig.key_event(event, event['data']);\n",
       "    }\n",
       "\n",
       "    canvas_div.keydown('key_press', canvas_keyboard_event);\n",
       "    canvas_div.keyup('key_release', canvas_keyboard_event);\n",
       "    this.canvas_div = canvas_div\n",
       "    this._canvas_extra_style(canvas_div)\n",
       "    this.root.append(canvas_div);\n",
       "\n",
       "    var canvas = $('<canvas/>');\n",
       "    canvas.addClass('mpl-canvas');\n",
       "    canvas.attr('style', \"left: 0; top: 0; z-index: 0; outline: 0\")\n",
       "\n",
       "    this.canvas = canvas[0];\n",
       "    this.context = canvas[0].getContext(\"2d\");\n",
       "\n",
       "    var backingStore = this.context.backingStorePixelRatio ||\n",
       "\tthis.context.webkitBackingStorePixelRatio ||\n",
       "\tthis.context.mozBackingStorePixelRatio ||\n",
       "\tthis.context.msBackingStorePixelRatio ||\n",
       "\tthis.context.oBackingStorePixelRatio ||\n",
       "\tthis.context.backingStorePixelRatio || 1;\n",
       "\n",
       "    mpl.ratio = (window.devicePixelRatio || 1) / backingStore;\n",
       "\n",
       "    var rubberband = $('<canvas/>');\n",
       "    rubberband.attr('style', \"position: absolute; left: 0; top: 0; z-index: 1;\")\n",
       "\n",
       "    var pass_mouse_events = true;\n",
       "\n",
       "    canvas_div.resizable({\n",
       "        start: function(event, ui) {\n",
       "            pass_mouse_events = false;\n",
       "        },\n",
       "        resize: function(event, ui) {\n",
       "            fig.request_resize(ui.size.width, ui.size.height);\n",
       "        },\n",
       "        stop: function(event, ui) {\n",
       "            pass_mouse_events = true;\n",
       "            fig.request_resize(ui.size.width, ui.size.height);\n",
       "        },\n",
       "    });\n",
       "\n",
       "    function mouse_event_fn(event) {\n",
       "        if (pass_mouse_events)\n",
       "            return fig.mouse_event(event, event['data']);\n",
       "    }\n",
       "\n",
       "    rubberband.mousedown('button_press', mouse_event_fn);\n",
       "    rubberband.mouseup('button_release', mouse_event_fn);\n",
       "    // Throttle sequential mouse events to 1 every 20ms.\n",
       "    rubberband.mousemove('motion_notify', mouse_event_fn);\n",
       "\n",
       "    rubberband.mouseenter('figure_enter', mouse_event_fn);\n",
       "    rubberband.mouseleave('figure_leave', mouse_event_fn);\n",
       "\n",
       "    canvas_div.on(\"wheel\", function (event) {\n",
       "        event = event.originalEvent;\n",
       "        event['data'] = 'scroll'\n",
       "        if (event.deltaY < 0) {\n",
       "            event.step = 1;\n",
       "        } else {\n",
       "            event.step = -1;\n",
       "        }\n",
       "        mouse_event_fn(event);\n",
       "    });\n",
       "\n",
       "    canvas_div.append(canvas);\n",
       "    canvas_div.append(rubberband);\n",
       "\n",
       "    this.rubberband = rubberband;\n",
       "    this.rubberband_canvas = rubberband[0];\n",
       "    this.rubberband_context = rubberband[0].getContext(\"2d\");\n",
       "    this.rubberband_context.strokeStyle = \"#000000\";\n",
       "\n",
       "    this._resize_canvas = function(width, height) {\n",
       "        // Keep the size of the canvas, canvas container, and rubber band\n",
       "        // canvas in synch.\n",
       "        canvas_div.css('width', width)\n",
       "        canvas_div.css('height', height)\n",
       "\n",
       "        canvas.attr('width', width * mpl.ratio);\n",
       "        canvas.attr('height', height * mpl.ratio);\n",
       "        canvas.attr('style', 'width: ' + width + 'px; height: ' + height + 'px;');\n",
       "\n",
       "        rubberband.attr('width', width);\n",
       "        rubberband.attr('height', height);\n",
       "    }\n",
       "\n",
       "    // Set the figure to an initial 600x600px, this will subsequently be updated\n",
       "    // upon first draw.\n",
       "    this._resize_canvas(600, 600);\n",
       "\n",
       "    // Disable right mouse context menu.\n",
       "    $(this.rubberband_canvas).bind(\"contextmenu\",function(e){\n",
       "        return false;\n",
       "    });\n",
       "\n",
       "    function set_focus () {\n",
       "        canvas.focus();\n",
       "        canvas_div.focus();\n",
       "    }\n",
       "\n",
       "    window.setTimeout(set_focus, 100);\n",
       "}\n",
       "\n",
       "mpl.figure.prototype._init_toolbar = function() {\n",
       "    var fig = this;\n",
       "\n",
       "    var nav_element = $('<div/>');\n",
       "    nav_element.attr('style', 'width: 100%');\n",
       "    this.root.append(nav_element);\n",
       "\n",
       "    // Define a callback function for later on.\n",
       "    function toolbar_event(event) {\n",
       "        return fig.toolbar_button_onclick(event['data']);\n",
       "    }\n",
       "    function toolbar_mouse_event(event) {\n",
       "        return fig.toolbar_button_onmouseover(event['data']);\n",
       "    }\n",
       "\n",
       "    for(var toolbar_ind in mpl.toolbar_items) {\n",
       "        var name = mpl.toolbar_items[toolbar_ind][0];\n",
       "        var tooltip = mpl.toolbar_items[toolbar_ind][1];\n",
       "        var image = mpl.toolbar_items[toolbar_ind][2];\n",
       "        var method_name = mpl.toolbar_items[toolbar_ind][3];\n",
       "\n",
       "        if (!name) {\n",
       "            // put a spacer in here.\n",
       "            continue;\n",
       "        }\n",
       "        var button = $('<button/>');\n",
       "        button.addClass('ui-button ui-widget ui-state-default ui-corner-all ' +\n",
       "                        'ui-button-icon-only');\n",
       "        button.attr('role', 'button');\n",
       "        button.attr('aria-disabled', 'false');\n",
       "        button.click(method_name, toolbar_event);\n",
       "        button.mouseover(tooltip, toolbar_mouse_event);\n",
       "\n",
       "        var icon_img = $('<span/>');\n",
       "        icon_img.addClass('ui-button-icon-primary ui-icon');\n",
       "        icon_img.addClass(image);\n",
       "        icon_img.addClass('ui-corner-all');\n",
       "\n",
       "        var tooltip_span = $('<span/>');\n",
       "        tooltip_span.addClass('ui-button-text');\n",
       "        tooltip_span.html(tooltip);\n",
       "\n",
       "        button.append(icon_img);\n",
       "        button.append(tooltip_span);\n",
       "\n",
       "        nav_element.append(button);\n",
       "    }\n",
       "\n",
       "    var fmt_picker_span = $('<span/>');\n",
       "\n",
       "    var fmt_picker = $('<select/>');\n",
       "    fmt_picker.addClass('mpl-toolbar-option ui-widget ui-widget-content');\n",
       "    fmt_picker_span.append(fmt_picker);\n",
       "    nav_element.append(fmt_picker_span);\n",
       "    this.format_dropdown = fmt_picker[0];\n",
       "\n",
       "    for (var ind in mpl.extensions) {\n",
       "        var fmt = mpl.extensions[ind];\n",
       "        var option = $(\n",
       "            '<option/>', {selected: fmt === mpl.default_extension}).html(fmt);\n",
       "        fmt_picker.append(option);\n",
       "    }\n",
       "\n",
       "    // Add hover states to the ui-buttons\n",
       "    $( \".ui-button\" ).hover(\n",
       "        function() { $(this).addClass(\"ui-state-hover\");},\n",
       "        function() { $(this).removeClass(\"ui-state-hover\");}\n",
       "    );\n",
       "\n",
       "    var status_bar = $('<span class=\"mpl-message\"/>');\n",
       "    nav_element.append(status_bar);\n",
       "    this.message = status_bar[0];\n",
       "}\n",
       "\n",
       "mpl.figure.prototype.request_resize = function(x_pixels, y_pixels) {\n",
       "    // Request matplotlib to resize the figure. Matplotlib will then trigger a resize in the client,\n",
       "    // which will in turn request a refresh of the image.\n",
       "    this.send_message('resize', {'width': x_pixels, 'height': y_pixels});\n",
       "}\n",
       "\n",
       "mpl.figure.prototype.send_message = function(type, properties) {\n",
       "    properties['type'] = type;\n",
       "    properties['figure_id'] = this.id;\n",
       "    this.ws.send(JSON.stringify(properties));\n",
       "}\n",
       "\n",
       "mpl.figure.prototype.send_draw_message = function() {\n",
       "    if (!this.waiting) {\n",
       "        this.waiting = true;\n",
       "        this.ws.send(JSON.stringify({type: \"draw\", figure_id: this.id}));\n",
       "    }\n",
       "}\n",
       "\n",
       "\n",
       "mpl.figure.prototype.handle_save = function(fig, msg) {\n",
       "    var format_dropdown = fig.format_dropdown;\n",
       "    var format = format_dropdown.options[format_dropdown.selectedIndex].value;\n",
       "    fig.ondownload(fig, format);\n",
       "}\n",
       "\n",
       "\n",
       "mpl.figure.prototype.handle_resize = function(fig, msg) {\n",
       "    var size = msg['size'];\n",
       "    if (size[0] != fig.canvas.width || size[1] != fig.canvas.height) {\n",
       "        fig._resize_canvas(size[0], size[1]);\n",
       "        fig.send_message(\"refresh\", {});\n",
       "    };\n",
       "}\n",
       "\n",
       "mpl.figure.prototype.handle_rubberband = function(fig, msg) {\n",
       "    var x0 = msg['x0'] / mpl.ratio;\n",
       "    var y0 = (fig.canvas.height - msg['y0']) / mpl.ratio;\n",
       "    var x1 = msg['x1'] / mpl.ratio;\n",
       "    var y1 = (fig.canvas.height - msg['y1']) / mpl.ratio;\n",
       "    x0 = Math.floor(x0) + 0.5;\n",
       "    y0 = Math.floor(y0) + 0.5;\n",
       "    x1 = Math.floor(x1) + 0.5;\n",
       "    y1 = Math.floor(y1) + 0.5;\n",
       "    var min_x = Math.min(x0, x1);\n",
       "    var min_y = Math.min(y0, y1);\n",
       "    var width = Math.abs(x1 - x0);\n",
       "    var height = Math.abs(y1 - y0);\n",
       "\n",
       "    fig.rubberband_context.clearRect(\n",
       "        0, 0, fig.canvas.width, fig.canvas.height);\n",
       "\n",
       "    fig.rubberband_context.strokeRect(min_x, min_y, width, height);\n",
       "}\n",
       "\n",
       "mpl.figure.prototype.handle_figure_label = function(fig, msg) {\n",
       "    // Updates the figure title.\n",
       "    fig.header.textContent = msg['label'];\n",
       "}\n",
       "\n",
       "mpl.figure.prototype.handle_cursor = function(fig, msg) {\n",
       "    var cursor = msg['cursor'];\n",
       "    switch(cursor)\n",
       "    {\n",
       "    case 0:\n",
       "        cursor = 'pointer';\n",
       "        break;\n",
       "    case 1:\n",
       "        cursor = 'default';\n",
       "        break;\n",
       "    case 2:\n",
       "        cursor = 'crosshair';\n",
       "        break;\n",
       "    case 3:\n",
       "        cursor = 'move';\n",
       "        break;\n",
       "    }\n",
       "    fig.rubberband_canvas.style.cursor = cursor;\n",
       "}\n",
       "\n",
       "mpl.figure.prototype.handle_message = function(fig, msg) {\n",
       "    fig.message.textContent = msg['message'];\n",
       "}\n",
       "\n",
       "mpl.figure.prototype.handle_draw = function(fig, msg) {\n",
       "    // Request the server to send over a new figure.\n",
       "    fig.send_draw_message();\n",
       "}\n",
       "\n",
       "mpl.figure.prototype.handle_image_mode = function(fig, msg) {\n",
       "    fig.image_mode = msg['mode'];\n",
       "}\n",
       "\n",
       "mpl.figure.prototype.updated_canvas_event = function() {\n",
       "    // Called whenever the canvas gets updated.\n",
       "    this.send_message(\"ack\", {});\n",
       "}\n",
       "\n",
       "// A function to construct a web socket function for onmessage handling.\n",
       "// Called in the figure constructor.\n",
       "mpl.figure.prototype._make_on_message_function = function(fig) {\n",
       "    return function socket_on_message(evt) {\n",
       "        if (evt.data instanceof Blob) {\n",
       "            /* FIXME: We get \"Resource interpreted as Image but\n",
       "             * transferred with MIME type text/plain:\" errors on\n",
       "             * Chrome.  But how to set the MIME type?  It doesn't seem\n",
       "             * to be part of the websocket stream */\n",
       "            evt.data.type = \"image/png\";\n",
       "\n",
       "            /* Free the memory for the previous frames */\n",
       "            if (fig.imageObj.src) {\n",
       "                (window.URL || window.webkitURL).revokeObjectURL(\n",
       "                    fig.imageObj.src);\n",
       "            }\n",
       "\n",
       "            fig.imageObj.src = (window.URL || window.webkitURL).createObjectURL(\n",
       "                evt.data);\n",
       "            fig.updated_canvas_event();\n",
       "            fig.waiting = false;\n",
       "            return;\n",
       "        }\n",
       "        else if (typeof evt.data === 'string' && evt.data.slice(0, 21) == \"data:image/png;base64\") {\n",
       "            fig.imageObj.src = evt.data;\n",
       "            fig.updated_canvas_event();\n",
       "            fig.waiting = false;\n",
       "            return;\n",
       "        }\n",
       "\n",
       "        var msg = JSON.parse(evt.data);\n",
       "        var msg_type = msg['type'];\n",
       "\n",
       "        // Call the  \"handle_{type}\" callback, which takes\n",
       "        // the figure and JSON message as its only arguments.\n",
       "        try {\n",
       "            var callback = fig[\"handle_\" + msg_type];\n",
       "        } catch (e) {\n",
       "            console.log(\"No handler for the '\" + msg_type + \"' message type: \", msg);\n",
       "            return;\n",
       "        }\n",
       "\n",
       "        if (callback) {\n",
       "            try {\n",
       "                // console.log(\"Handling '\" + msg_type + \"' message: \", msg);\n",
       "                callback(fig, msg);\n",
       "            } catch (e) {\n",
       "                console.log(\"Exception inside the 'handler_\" + msg_type + \"' callback:\", e, e.stack, msg);\n",
       "            }\n",
       "        }\n",
       "    };\n",
       "}\n",
       "\n",
       "// from http://stackoverflow.com/questions/1114465/getting-mouse-location-in-canvas\n",
       "mpl.findpos = function(e) {\n",
       "    //this section is from http://www.quirksmode.org/js/events_properties.html\n",
       "    var targ;\n",
       "    if (!e)\n",
       "        e = window.event;\n",
       "    if (e.target)\n",
       "        targ = e.target;\n",
       "    else if (e.srcElement)\n",
       "        targ = e.srcElement;\n",
       "    if (targ.nodeType == 3) // defeat Safari bug\n",
       "        targ = targ.parentNode;\n",
       "\n",
       "    // jQuery normalizes the pageX and pageY\n",
       "    // pageX,Y are the mouse positions relative to the document\n",
       "    // offset() returns the position of the element relative to the document\n",
       "    var x = e.pageX - $(targ).offset().left;\n",
       "    var y = e.pageY - $(targ).offset().top;\n",
       "\n",
       "    return {\"x\": x, \"y\": y};\n",
       "};\n",
       "\n",
       "/*\n",
       " * return a copy of an object with only non-object keys\n",
       " * we need this to avoid circular references\n",
       " * http://stackoverflow.com/a/24161582/3208463\n",
       " */\n",
       "function simpleKeys (original) {\n",
       "  return Object.keys(original).reduce(function (obj, key) {\n",
       "    if (typeof original[key] !== 'object')\n",
       "        obj[key] = original[key]\n",
       "    return obj;\n",
       "  }, {});\n",
       "}\n",
       "\n",
       "mpl.figure.prototype.mouse_event = function(event, name) {\n",
       "    var canvas_pos = mpl.findpos(event)\n",
       "\n",
       "    if (name === 'button_press')\n",
       "    {\n",
       "        this.canvas.focus();\n",
       "        this.canvas_div.focus();\n",
       "    }\n",
       "\n",
       "    var x = canvas_pos.x * mpl.ratio;\n",
       "    var y = canvas_pos.y * mpl.ratio;\n",
       "\n",
       "    this.send_message(name, {x: x, y: y, button: event.button,\n",
       "                             step: event.step,\n",
       "                             guiEvent: simpleKeys(event)});\n",
       "\n",
       "    /* This prevents the web browser from automatically changing to\n",
       "     * the text insertion cursor when the button is pressed.  We want\n",
       "     * to control all of the cursor setting manually through the\n",
       "     * 'cursor' event from matplotlib */\n",
       "    event.preventDefault();\n",
       "    return false;\n",
       "}\n",
       "\n",
       "mpl.figure.prototype._key_event_extra = function(event, name) {\n",
       "    // Handle any extra behaviour associated with a key event\n",
       "}\n",
       "\n",
       "mpl.figure.prototype.key_event = function(event, name) {\n",
       "\n",
       "    // Prevent repeat events\n",
       "    if (name == 'key_press')\n",
       "    {\n",
       "        if (event.which === this._key)\n",
       "            return;\n",
       "        else\n",
       "            this._key = event.which;\n",
       "    }\n",
       "    if (name == 'key_release')\n",
       "        this._key = null;\n",
       "\n",
       "    var value = '';\n",
       "    if (event.ctrlKey && event.which != 17)\n",
       "        value += \"ctrl+\";\n",
       "    if (event.altKey && event.which != 18)\n",
       "        value += \"alt+\";\n",
       "    if (event.shiftKey && event.which != 16)\n",
       "        value += \"shift+\";\n",
       "\n",
       "    value += 'k';\n",
       "    value += event.which.toString();\n",
       "\n",
       "    this._key_event_extra(event, name);\n",
       "\n",
       "    this.send_message(name, {key: value,\n",
       "                             guiEvent: simpleKeys(event)});\n",
       "    return false;\n",
       "}\n",
       "\n",
       "mpl.figure.prototype.toolbar_button_onclick = function(name) {\n",
       "    if (name == 'download') {\n",
       "        this.handle_save(this, null);\n",
       "    } else {\n",
       "        this.send_message(\"toolbar_button\", {name: name});\n",
       "    }\n",
       "};\n",
       "\n",
       "mpl.figure.prototype.toolbar_button_onmouseover = function(tooltip) {\n",
       "    this.message.textContent = tooltip;\n",
       "};\n",
       "mpl.toolbar_items = [[\"Home\", \"Reset original view\", \"fa fa-home icon-home\", \"home\"], [\"Back\", \"Back to previous view\", \"fa fa-arrow-left icon-arrow-left\", \"back\"], [\"Forward\", \"Forward to next view\", \"fa fa-arrow-right icon-arrow-right\", \"forward\"], [\"\", \"\", \"\", \"\"], [\"Pan\", \"Pan axes with left mouse, zoom with right\", \"fa fa-arrows icon-move\", \"pan\"], [\"Zoom\", \"Zoom to rectangle\", \"fa fa-square-o icon-check-empty\", \"zoom\"], [\"\", \"\", \"\", \"\"], [\"Download\", \"Download plot\", \"fa fa-floppy-o icon-save\", \"download\"]];\n",
       "\n",
       "mpl.extensions = [\"eps\", \"jpeg\", \"pdf\", \"png\", \"ps\", \"raw\", \"svg\", \"tif\"];\n",
       "\n",
       "mpl.default_extension = \"png\";var comm_websocket_adapter = function(comm) {\n",
       "    // Create a \"websocket\"-like object which calls the given IPython comm\n",
       "    // object with the appropriate methods. Currently this is a non binary\n",
       "    // socket, so there is still some room for performance tuning.\n",
       "    var ws = {};\n",
       "\n",
       "    ws.close = function() {\n",
       "        comm.close()\n",
       "    };\n",
       "    ws.send = function(m) {\n",
       "        //console.log('sending', m);\n",
       "        comm.send(m);\n",
       "    };\n",
       "    // Register the callback with on_msg.\n",
       "    comm.on_msg(function(msg) {\n",
       "        //console.log('receiving', msg['content']['data'], msg);\n",
       "        // Pass the mpl event to the overridden (by mpl) onmessage function.\n",
       "        ws.onmessage(msg['content']['data'])\n",
       "    });\n",
       "    return ws;\n",
       "}\n",
       "\n",
       "mpl.mpl_figure_comm = function(comm, msg) {\n",
       "    // This is the function which gets called when the mpl process\n",
       "    // starts-up an IPython Comm through the \"matplotlib\" channel.\n",
       "\n",
       "    var id = msg.content.data.id;\n",
       "    // Get hold of the div created by the display call when the Comm\n",
       "    // socket was opened in Python.\n",
       "    var element = $(\"#\" + id);\n",
       "    var ws_proxy = comm_websocket_adapter(comm)\n",
       "\n",
       "    function ondownload(figure, format) {\n",
       "        window.open(figure.imageObj.src);\n",
       "    }\n",
       "\n",
       "    var fig = new mpl.figure(id, ws_proxy,\n",
       "                           ondownload,\n",
       "                           element.get(0));\n",
       "\n",
       "    // Call onopen now - mpl needs it, as it is assuming we've passed it a real\n",
       "    // web socket which is closed, not our websocket->open comm proxy.\n",
       "    ws_proxy.onopen();\n",
       "\n",
       "    fig.parent_element = element.get(0);\n",
       "    fig.cell_info = mpl.find_output_cell(\"<div id='\" + id + \"'></div>\");\n",
       "    if (!fig.cell_info) {\n",
       "        console.error(\"Failed to find cell for figure\", id, fig);\n",
       "        return;\n",
       "    }\n",
       "\n",
       "    var output_index = fig.cell_info[2]\n",
       "    var cell = fig.cell_info[0];\n",
       "\n",
       "};\n",
       "\n",
       "mpl.figure.prototype.handle_close = function(fig, msg) {\n",
       "    var width = fig.canvas.width/mpl.ratio\n",
       "    fig.root.unbind('remove')\n",
       "\n",
       "    // Update the output cell to use the data from the current canvas.\n",
       "    fig.push_to_output();\n",
       "    var dataURL = fig.canvas.toDataURL();\n",
       "    // Re-enable the keyboard manager in IPython - without this line, in FF,\n",
       "    // the notebook keyboard shortcuts fail.\n",
       "    IPython.keyboard_manager.enable()\n",
       "    $(fig.parent_element).html('<img src=\"' + dataURL + '\" width=\"' + width + '\">');\n",
       "    fig.close_ws(fig, msg);\n",
       "}\n",
       "\n",
       "mpl.figure.prototype.close_ws = function(fig, msg){\n",
       "    fig.send_message('closing', msg);\n",
       "    // fig.ws.close()\n",
       "}\n",
       "\n",
       "mpl.figure.prototype.push_to_output = function(remove_interactive) {\n",
       "    // Turn the data on the canvas into data in the output cell.\n",
       "    var width = this.canvas.width/mpl.ratio\n",
       "    var dataURL = this.canvas.toDataURL();\n",
       "    this.cell_info[1]['text/html'] = '<img src=\"' + dataURL + '\" width=\"' + width + '\">';\n",
       "}\n",
       "\n",
       "mpl.figure.prototype.updated_canvas_event = function() {\n",
       "    // Tell IPython that the notebook contents must change.\n",
       "    IPython.notebook.set_dirty(true);\n",
       "    this.send_message(\"ack\", {});\n",
       "    var fig = this;\n",
       "    // Wait a second, then push the new image to the DOM so\n",
       "    // that it is saved nicely (might be nice to debounce this).\n",
       "    setTimeout(function () { fig.push_to_output() }, 1000);\n",
       "}\n",
       "\n",
       "mpl.figure.prototype._init_toolbar = function() {\n",
       "    var fig = this;\n",
       "\n",
       "    var nav_element = $('<div/>');\n",
       "    nav_element.attr('style', 'width: 100%');\n",
       "    this.root.append(nav_element);\n",
       "\n",
       "    // Define a callback function for later on.\n",
       "    function toolbar_event(event) {\n",
       "        return fig.toolbar_button_onclick(event['data']);\n",
       "    }\n",
       "    function toolbar_mouse_event(event) {\n",
       "        return fig.toolbar_button_onmouseover(event['data']);\n",
       "    }\n",
       "\n",
       "    for(var toolbar_ind in mpl.toolbar_items){\n",
       "        var name = mpl.toolbar_items[toolbar_ind][0];\n",
       "        var tooltip = mpl.toolbar_items[toolbar_ind][1];\n",
       "        var image = mpl.toolbar_items[toolbar_ind][2];\n",
       "        var method_name = mpl.toolbar_items[toolbar_ind][3];\n",
       "\n",
       "        if (!name) { continue; };\n",
       "\n",
       "        var button = $('<button class=\"btn btn-default\" href=\"#\" title=\"' + name + '\"><i class=\"fa ' + image + ' fa-lg\"></i></button>');\n",
       "        button.click(method_name, toolbar_event);\n",
       "        button.mouseover(tooltip, toolbar_mouse_event);\n",
       "        nav_element.append(button);\n",
       "    }\n",
       "\n",
       "    // Add the status bar.\n",
       "    var status_bar = $('<span class=\"mpl-message\" style=\"text-align:right; float: right;\"/>');\n",
       "    nav_element.append(status_bar);\n",
       "    this.message = status_bar[0];\n",
       "\n",
       "    // Add the close button to the window.\n",
       "    var buttongrp = $('<div class=\"btn-group inline pull-right\"></div>');\n",
       "    var button = $('<button class=\"btn btn-mini btn-primary\" href=\"#\" title=\"Stop Interaction\"><i class=\"fa fa-power-off icon-remove icon-large\"></i></button>');\n",
       "    button.click(function (evt) { fig.handle_close(fig, {}); } );\n",
       "    button.mouseover('Stop Interaction', toolbar_mouse_event);\n",
       "    buttongrp.append(button);\n",
       "    var titlebar = this.root.find($('.ui-dialog-titlebar'));\n",
       "    titlebar.prepend(buttongrp);\n",
       "}\n",
       "\n",
       "mpl.figure.prototype._root_extra_style = function(el){\n",
       "    var fig = this\n",
       "    el.on(\"remove\", function(){\n",
       "\tfig.close_ws(fig, {});\n",
       "    });\n",
       "}\n",
       "\n",
       "mpl.figure.prototype._canvas_extra_style = function(el){\n",
       "    // this is important to make the div 'focusable\n",
       "    el.attr('tabindex', 0)\n",
       "    // reach out to IPython and tell the keyboard manager to turn it's self\n",
       "    // off when our div gets focus\n",
       "\n",
       "    // location in version 3\n",
       "    if (IPython.notebook.keyboard_manager) {\n",
       "        IPython.notebook.keyboard_manager.register_events(el);\n",
       "    }\n",
       "    else {\n",
       "        // location in version 2\n",
       "        IPython.keyboard_manager.register_events(el);\n",
       "    }\n",
       "\n",
       "}\n",
       "\n",
       "mpl.figure.prototype._key_event_extra = function(event, name) {\n",
       "    var manager = IPython.notebook.keyboard_manager;\n",
       "    if (!manager)\n",
       "        manager = IPython.keyboard_manager;\n",
       "\n",
       "    // Check for shift+enter\n",
       "    if (event.shiftKey && event.which == 13) {\n",
       "        this.canvas_div.blur();\n",
       "        event.shiftKey = false;\n",
       "        // Send a \"J\" for go to next cell\n",
       "        event.which = 74;\n",
       "        event.keyCode = 74;\n",
       "        manager.command_mode();\n",
       "        manager.handle_keydown(event);\n",
       "    }\n",
       "}\n",
       "\n",
       "mpl.figure.prototype.handle_save = function(fig, msg) {\n",
       "    fig.ondownload(fig, null);\n",
       "}\n",
       "\n",
       "\n",
       "mpl.find_output_cell = function(html_output) {\n",
       "    // Return the cell and output element which can be found *uniquely* in the notebook.\n",
       "    // Note - this is a bit hacky, but it is done because the \"notebook_saving.Notebook\"\n",
       "    // IPython event is triggered only after the cells have been serialised, which for\n",
       "    // our purposes (turning an active figure into a static one), is too late.\n",
       "    var cells = IPython.notebook.get_cells();\n",
       "    var ncells = cells.length;\n",
       "    for (var i=0; i<ncells; i++) {\n",
       "        var cell = cells[i];\n",
       "        if (cell.cell_type === 'code'){\n",
       "            for (var j=0; j<cell.output_area.outputs.length; j++) {\n",
       "                var data = cell.output_area.outputs[j];\n",
       "                if (data.data) {\n",
       "                    // IPython >= 3 moved mimebundle to data attribute of output\n",
       "                    data = data.data;\n",
       "                }\n",
       "                if (data['text/html'] == html_output) {\n",
       "                    return [cell, data, j];\n",
       "                }\n",
       "            }\n",
       "        }\n",
       "    }\n",
       "}\n",
       "\n",
       "// Register the function which deals with the matplotlib target/channel.\n",
       "// The kernel may be null if the page has been refreshed.\n",
       "if (IPython.notebook.kernel != null) {\n",
       "    IPython.notebook.kernel.comm_manager.register_target('matplotlib', mpl.mpl_figure_comm);\n",
       "}\n"
      ],
      "text/plain": [
       "<IPython.core.display.Javascript object>"
      ]
     },
     "metadata": {},
     "output_type": "display_data"
    },
    {
     "data": {
      "text/html": [
       "<img src=\"data:image/png;base64,iVBORw0KGgoAAAANSUhEUgAAAsAAAAIQCAYAAACPEdjAAAAgAElEQVR4XuydB7gUVfL263oBUaKgoCsLGEAxrriCiSwgYvizZjEQXEQFM0YUkKRiAEVBFl2UsCDqKoqioqAYUARW1pVvwQCyCiayCBLu91QPZ+ZM3w7ndJru6befh0fvnRN/pwbeqalTVVJWVlZGeEAABEAABEAABEAABEAgJQRKIIBTctLYJgiAAAiAAAiAAAiAgEEAAhiGAAIgAAIgAAIgAAIgkCoCEMCpOm5sFgRAAARAAARAAARAAAIYNgACIAACIAACIAACIJAqAhDAqTpubBYEQAAEQAAEQAAEQAACGDYAAiAAAiAAAiAAAiCQKgIQwKk6bmwWBEAABEAABEAABEAAAhg2AAIgAAIgAAIgAAIgkCoCEMCpOm5sFgRAAARAAARAAARAAAIYNgACIAACIAACIAACIJAqAhDAqTpubBYEQAAEQAAEQAAEQAACGDYAAiAAAiAAAiAAAiCQKgIQwKk6bmwWBEAABEAABEAABEAAAhg2AAIgAAIgAAIgAAIgkCoCEMCpOm5sFgRAAARAAARAAARAAAIYNgACIAACIAACIAACIJAqAhDAqTpubBYEQAAEQAAEQAAEQAACGDYAAiAAAiAAAiAAAiCQKgIQwKk6bmwWBEAABEAABEAABEAAAhg2AAIgAAIgAAIgAAIgkCoCEMCpOm5sFgRAAARAAARAAARAAAIYNgACIAACIAACIAACIJAqAhDAqTpubBYEQAAEQAAEQAAEQAACGDYAAiAAAiAAAiAAAiCQKgIQwKk6bmwWBEAABEAABEAABEAAAhg2AAIgAAIgAAIgAAIgkCoCEMCpOm5sFgRAAARAAARAAARAAAIYNgACIAACIAACIAACIJAqAhDAqTpubBYEQAAEQAAEQAAEQAACGDYAAiAAAiAAAiAAAiCQKgIQwKk6bmwWBEAABEAABEAABEAAAhg2AAIgAAIgAAIgAAIgkCoCEMCpOm5sFgRAAARAAARAAARAAAIYNgACIAACIAACIAACIJAqAhDAqTpubBYEQAAEQAAEQAAEQAACGDYAAiAAAiAAAiAAAiCQKgIQwKk6bmwWBEAABEAABEAABEAAAhg2AAIgAAIgAAIgAAIgkCoCEMCpOm5sFgRAAARAAARAAARAAAIYNgACIAACIAACIAACIJAqAhDAqTpubBYEQAAEQAAEQAAEQAACGDYAAiAAAiAAAiAAAiCQKgIQwKk6bmwWBEAABEAABEAABEAAAhg2AAIgAAIgAAIgAAIgkCoCEMCpOm5sFgRAAARAAARAAARAAAIYNgACIAACIAACIAACIJAqAhDAqTpubBYEQAAEQAAEQAAEQAACGDYAAiAAAiAAAiAAAiCQKgIQwKk6bmwWBEAABEAABEAABEAAAhg2AAIgAAIgAAIgAAIgkCoCEMCpOm5sFgRAAARAAARAAARAAAIYNgACIAACIAACIAACIJAqAhDAqTpubBYEQAAEQAAEQAAEQAACGDYAAiAAAiAAAiAAAiCQKgIQwKk6bmwWBEAABEAABEAABEAAAhg2AAIgAAIgAAIgAAIgkCoCEMCpOm5sFgRAAARAAARAAARAAAIYNgACIAACIAACIAACIJAqAhDAqTpubBYEQAAEQAAEQAAEQAACGDYAAiAAAiAAAiAAAiCQKgIQwKk6bmwWBEAABEAABEAABEAAAjhEG9i6dSv9+9//pv32248qVKgQ4kwYGgRAAARAAARAAATyCezYsYN++uknOvroo6ly5crAIxGAAA7RHBYsWEDNmjULcQYMDQIgAAIgAAIgAALOBD755BM64YQTgAkCOBobWLFiBR100EHEhnfAAQdEMylmAQEQAAEQAAEQAAEiWr16teGI++abb6hhw4ZgAgEcjQ3873//oz/+8Y+0atUqqlevXjSTYhYQAAEQAAEQAAEQICLoEHszQAhEiG8RGF6IcDE0CIAACIAACICAIwHoEAjggrxFYHgFwY5JQQAEQAAEQAAE4AF2tAF4gEN8i0AAhwgXQ4MACIAACIAACMAD7NEGIIA9glPpBgGsQgltQAAEQAAEQAAEwiAAHWJPFQI4DIvbPSYML0S4GBoEQAAEQAAEQAAeYI82kEgB/OWXX9KDDz5I8+fPp88//5wOP/xw47/i2bhxIz388MP0+uuv03//+1+qWLEiHX/88TRs2DBq2rSpIyqRuszcqHnz5sZ8Og8EsA4ttAUBEAABEAABEAiSAHRIkXmAX375ZerTpw+xKF22bBnt2rUrTwCzGG7fvj316NGDWrZsSdu3b6dRo0bRvHnz6MMPP3QUwUIAs1hu06ZNlly1atXoyCOP1LJLGJ4WLjQGARAAARAAARAIkAB0SJEJYBa8e+yxh7Grbt260aeffpongH/99VcqKSmhvffeO7tzLkt88MEHU8eOHenvf/+7LREhgKdPn07nnXeeLzOE4fnCh84gAAIgAAIgAAI+CECHFJkAlrdjJYDtttuuXTuqUKECvfHGGxDAPt5Q6AoCIAACIAACIBB/AhDAEMDEXmGuynb55ZfTyJEjXQXwvvvuS2vXrqXatWvTOeecQ/fffz/VqlVLy9pheFq40BgEQAAEQAAEQCBAAtAhEMB044030pgxY4xQiUMPPdSWCNfNHjx4sBEqUbNmTfr4449p6NChRvjEJ598Ylyos3v48h3/EY+owY1SyAG+mzEUCIAACIAACICAEgEI4JQL4ClTplDXrl3p8ccfp2uuuUbJaORGM2fOpDPPPJOmTZtGF1xwgW3/gQMH0qBBg8q9DgGsjRwdQAAEYkZg+S/LqfHoxsaqlvVZRo1qN4rZCrEcEAABMwEI4BQL4LfeessQr9dffz098MADnt4dZWVlVL16dUM8cygEPMCeMKITCIBAgglAACf48LD01BKAAE6pAOaQBb74xjG8EydONDJDeHlYAHMatGuvvdZRAOOTlxe66AMCIJAEAhDASTglrBEE8glAAKdQAC9dupRatGhBf/7zn+mVV15xjN11e8Nw/7PPPpt0U6PB8NzI4nUQAIE4E2DRK57la5dT5ymdjR9nXjKTGtXKhUAgHCLOp4i1pZkAdEiRCeAtW7bQa6+9ZuyK43q/+uoro/IbP61atSL22LLw5QIYkyZNoipVqmQJ7LnnnnTcccdlf+a0aFdccQU99dRTxu9uueUWI8cwF9ngS3DsRR4+fDgddthh9NFHHxlp1FQfGJ4qKbQDARCII4GSQWrfmpUNKIvj8rEmEEg9AeiQIhPAduWKeZtz5swxditXcZO336BBA+L+4uGwCBbAEyZMMH7FQviJJ54gLrfMQvvAAw+kLl26GJfbOA5Y54Hh6dBCWxAAgbgRgACO24lgPSCgRwA6pMgEsN7xF641DK9w7DEzCICAfwIIgfDPECOAQCEJQIdAABfE/mB4BcGOSUEABEIggEtwIUDFkCAQMgHoEAjgkE3MengYXkGwY1IQAIEQCEAAhwAVQ4JAyASgQyCAQzYxCOCCAMakIAACkRGAAI4MNSYCgcAIQABDAAdmTDoDwfB0aKEtCIAACIAACIBAkASgQyCAg7Qn5bFgeMqo0BAEQAAEQAAEQCBgAtAhEMABm5TacDA8NU5oBQIgAAIgAAIgEDwB6BAI4OCtSmFEGJ4CJDQBARAAARAAARAIhQB0CARwKIblNigMz40QXgcBEAABEAABEAiLAHQIBHBYtuU4LgyvINgxKQiAAAiAAAiAABFBh0AAF+SNAMMrCHZMCgIgAAIgAAIgAAHsaAMlZWVlZbCScAhAAIfDFaOCAAiAAAiAAAi4E4AOgQfY3UpCaAHDCwEqhgQBEAABEAABEFAiAB0CAaxkKEE3guEFTRTjgQAIgAAIgAAIqBKADoEAVrWVQNvB8ALFicFAAARAAARAAAQ0CECHQABrmEtwTWF4wbHESCAAAiAAAiAAAnoEoEMggPUsJqDWMLyAQGIYEAABEAABEAABbQLQIRDA2kYTRAcYXhAUMQYIgAAIgAAIgIAXAtAhEMBe7MZ3Hxieb4QYAARAAARAAARAwCMB6BAIYI+m468bDM8fP/QGARAAARAAARDwTgA6BALYu/X46AnD8wEPXUEABEAABEAABHwRgA6BAPZlQF47w/C8kkM/EAABEAABEAABvwSgQyCA/dqQp/4wPE/Y0AkEQAAEQAAEQCAAAtAhEMABmJH+EDA8fWboAQIgAAIgAAIgEAwB6BAI4GAsSXMUGJ4mMDQHARAAARAAARAIjAB0CARwYMakMxAMT4cW2oIACIAACIAACARJADoEAjhIe1IeC4anjAoNQQAEQAAEQAAEAiYAHQIBHLBJqQ0Hw1PjhFYgAAIgAAIgAALBE4AOgQAO3qoURoThKUBCExAAARAAARAAgVAIQIdAAIdiWG6DwvDcCOF1EACBxBLYsYOoTx+iXr2ImjYtv41Fi4jGjSMaPZqoQoXEbhMLB4EkE4AOgQAuiP3C8AqCHZOCAAhEQaB3b6InnyTaZx+i2bPzRTCL39NOI1q3juiqq4jGjo1iRZgDBEDARAA6BAK4IG8KGF5BsGNSEACBKAjIIlcWwXa/j2JNmAMEQCCPAHQIBHBB3hIwvIJgx6QgAAJRETCL3REjiPr1y3h+rTzDUa0L84AACBgEoEMggAvyVoDhFQQ7JgUBEIiSgCyCxbwQv1GeAOYCAVsC0CFFJoC//PJLevDBB2n+/Pn0+eef0+GHH2781/w888wzNHz4cFqxYgUdeuihNGDAADr//PNd3yqbNm2iW265hZ5//nnatm0btW3blh577DFq0KCBa1+5AQxPCxcagwAIJJXAU08RXXllbvXjxxP17JnU3WDdIFA0BKBDikwAv/zyy9SnTx9q3rw5LVu2jHbt2lVOALN4ZbF7++23U4cOHeill14yROysWbOMn52eM888kxYtWkQPPfQQVa9ene655x7auHEjLVmyhPbaay/lNwYMTxkVGoIACCSVADzAST05rDsFBKBDikwAs+DdY489jF1169aNPv3003ICuEmTJnT00UfTc889l919x44dacOGDYbn2O75+OOP6cQTT6SZM2fSGWecYTT79ttv6ZBDDjEEdG+++az4wPAUQaEZCIBAMgkgBjiZ54ZVp4YAdEiRCWB5O1YC+JtvvqGDDz6YXnzxRerSpUu2OYdEdO/enX788Ufad999LalwmMSjjz5Ka9eupZKSkmybNm3aUNWqVemVV15RfuPA8JRRoSEIgEDSCCALRNJODOtNIQHokJQJ4Ndee406d+5MS5cuNeKDxbNgwQJq1qwZzZs3j0499VRLKhdccIHh8TV7ia+99lp64403iOOPVR8YnioptAMBEEgcAeQBTtyRYcHpIwAdkjIBPHnyZLr00ktp9erVtP/++2d3z+K1UaNGxDHEZ599tiWV9u3bU2lpqRErLD/9+/enJ554wvAM2z0cJ8x/xMPzs+BetWoV1atXL33vPOwYBECgeAmgElzxni12VjQEIIBTKoDXrFlDdevWze5++fLl1LhxY5oxYwadddZZtgK4QoUK9Prrr+e9ftddd9HYsWPpl19+saU5cOBAGjRoULnXIYCL5u8SbAQEQAAEQAAEEkMAAjhlArhQIRDwACfm7wQsFARAAARAAASKngAEcMoEMC7BFf17GhsEARAAARAAARBwIQABnDIBzNvlNGjHHnssTZ06Nbv7008/ndavX6+UBo1DILg9PxzCwFklkAYNf9eAAAiAAAiAAAgkhQAEcJEJ4C1bthCHOfDz+OOP01dffUUPP/yw8XOrVq1ov/32o+nTp9OFF15Id9xxB/HFNr74NmrUqHKFMDje94orrqCnuJLR7ocLYSxevDivEAbnD0YhjKS85bFOEAABEAABEAABCOAiE8Bc2viggw6y3NWcOXOodevWxmuc93fYsGHZUsh8Sc1cCplz/bIAnjBhQnY8juUVpZB///13lELG3yEgAAIgAAIgAAKJIwABXGQCOCkWCMNLyklhnSAAAiAAAiBQfASgQyCAC2LVMLyCYMekIAACIAACIAACRAQdAgFckDcCDK8g2DEpCIAACIAACIAABLCjDZSUlZWVwUrCIQABHA5XjAoCIAACIAACIOBOADoEHmB3KwmhBQwvBKgYEgRAAARAAARAQIkAdAgEsJKhBN0Ihhc0UYwHAvEhsPyX5dR4dGNjQcv6LKNGtRvFZ3FYCQiAAAggBMLRBhACEeJbBAI4RLgYGgQKTAACuMAHgOlBAARcCUCHwAPsaiRhNIDhhUEVY4JAPAhAAMfjHLAKEAABewLQIRDABXl/wPAKgh2TgkBoBFj0imf52uXUeUpn48eZl8ykRrVyIRAIhwjtCDAwCICABgHoEAhgDXMJrikMLziWGAkE4kCgZFCJ0jLKBiC5jhIoNAIBEAiVAHQIBHCoBmY3OAyvINgxKQiERgACODS0GBgEQCAEAtAhEMAhmJX7kDA8d0ZoAQJJIoAQiCSdFtYKAiAAHQIBXJB3AQyvINgxKQhEQgCX4CLBjElAAAR8EIAOgQD2YT7eu8LwvLNDTxCIOwEI4LifENYHAiAAHQIBXJB3AQyvINgxKQhEQgACOBLMmAQEQMAHAegQCGAf5uO9KwzPOzv0BAEQAAEQAAEQ8EcAOgQC2J8FeewNw/MIDt1AAARAAARAAAR8E4AOgQD2bUReBoDheaGGPiAAAiAAAiAAAkEQgA6BAA7CjrTHgOFpI0MHEAABEAABEACBgAhAh0AAB2RKesPA8PR4oTUIgAAIgAAIgEBwBKBDIICDsyaNkWB4GrDQFARAAARAAARAIFAC0CEQwIEalOpgMDxVUmgHAiAAAiAAAiAQNAHoEAjgoG1KaTwYnhImNAIBEAABEAABEAiBAHQIBHAIZuU+JAzPnRFagAAIgAAIgAAIhEMAOgQCOBzLchkVhlcQ7JgUBEAABEAABECAiKBDIIAL8kaA4RUEOyYFARAAARAAARCAAHa0gZKysrIyWEk4BCCAw+GKUUEABAIgsGMHUZ8+RL16ETVtWn7ARYuIxo0jGj2aqEKFACbEECAAAlETgA6BBzhqmzPmg+EVBDsmBQEQUCHQuzfRk08S7bMP0ezZ+SKYxe9ppxGtW0d01VVEY8eqjIg2IAACMSMAHQIBXBCThOEVBDsmBQEQUCEgi1xZBNv9XmVMtAEBEIgVAegQCOCCGCQMryDYMSkIgIAqAbPYHTGCqF+/jOfXyjOsOi7agQAIxIIAdAgEcEEMEYZXEOyYFARAwI6AVdyvLIJFP4hf2BAIFAUB6BAI4IIYMgyvINgxaYgElv+ynBqPbmzMsKzPMmpUu1GIs2HowAnYxf0+9RTRlVfmpmvVimju3MCnx4AgAALREoAOgQCO1uJ2zwbDKwh2TBoiAQjgEOFGMbRVfC/P26YN0caNuRVUr040Z451dogo1ok5QAAEAiEAHZJCAdy6dWt69913LXf+j3/8gy666CLL1xo2bEgrV64s99pvv/1GlStX1jJIGJ4WLjROAAEI4AQcktsSZRFcrRrRzp1EW7Zkeu29dyblGYthhEG4kcTrIBB7AtAhKRTAX3zxBW2UPRpENHLkSHrhhRdo9erVtO+++9oK4BNOOIFuvvnmvNebN29OJSUlWsYOw9PChcYxJcCiVzzL1y6nzlM6Gz/OvGQmNaqVC4FAOERMD9BqWSyCW7cm2rQp9yqLYRH2IFKgQQQn6FCxVBAoTwA6JIUC2GrLBx98MDVp0oRmzpxpS4Q9wGeeeSaN5uTvPh8Ynk+A6B4LAiWD1D74lQ1ATZ1YHJjqIlgAy9+SjR9P1LNnpjfyAKtSRDsQiDUB6BAIYPrwww/plFNOocmTJ9Mll1wCARzrtywWFycCEMBxOo2A1sICt107ovXrcwOavb2oBBcQbAwDAoUjAAEMAUx9+vShv//97/Tjjz9SlSpVHAXwhg0baMuWLVSxYkVq2bIl3X///XT00UdrWzAMTxsZOsSQAEIgYngofpaE3L9+6KEvCCSKAHRIygXwjh076MADD6R27drRlClTHI33uuuuI473rV+/Pn399dc0dOhQ+uGHH2jx4sXEIRROD8ccy3HHHGvcrFkzWrVqFdWrVy9RbxosFgSsCOASXMLtAtXfEn6AWD4I6BGAAE65AH799dfpjDPOoFdeecWI79V5WMQefvjh1LVrV3riiSccuw4cOJAGDRpUrg0EsA5xtI2zyIzz2mA5CgTs8gBzV8T9KgBEExBIFgEI4JQL4Msuu4xYBLOY5bAG3adz5870888/08cffwwPsC48tNcmEGeRGee1aYNOYwerSnAyB8T9ptEqsOciJgABnGIBzPl769ata3hwx4wZ48nM2Xv8yy+/uApg8+AwPE+4U98JIjP1JgAAIAACIBAIAeiQFAvgadOmGUUv3nvvPWrRooW2QX3//fdG6jT2IuumRoPhaeNObQdcNEvt0WPjIAACIBAaAeiQFAvgc845h/71r3/RihUryhWy4EtxXPXtyy+/NAhxhTjOEdypUyf6wx/+YFyCGz58OK1du5YWLlxIBx10kJaRwvC0cKW6MVKNpfr4sXkQAAEQCIUAdEhKBfC6deto//33pxtuuMFIZWZ+uFwyC2P+w8/8+fPp9ttvp//85z+0fv16qlmzJrVt25buvfdeOuyww7SNE4anjSy1HSCAU3v02DgIgAAIhEYAOiSlAjg0i1IcGIanCArNCCEQMAIQAAEQAIGgCUCHQAAHbVNK48HwlDChkYlAXC7BxWUdMBAQAAEQAAFvBKBDIIC9WY7PXjA8nwBT2j0uwjMu60ipGWDbIAACIOCbAHQIBLBvI/IyAAzPCzX0iYvwjMs6YBEgAAIgAALeCECHQAB7sxyfvWB4PgGie+QEEIscOXJMCAIgAAKhEYAOgQAOzbicBobhFQQ7JvVBANkofMBDVxAAARCIGQHoEAjggpgkDK8g2DGpDwIQwD7goSsIgAAIxIwAdAgEcEFMEoZXEOyY1AcBLyEQiBX2ARxdQQAEQCBEAtAhEMAhmpf90DC8gmDHpAERUBW2qu0CWhaGAQEQAAEQUCQAHQIBrGgqwTaD4QXLE6NFS0BV2Kq2i3b1mA0EQAAEQAA6BAK4IO8CGF5BsGPSgAg4CVsvoRIBLQvDgAAIgAAIKBKADoEAVjSVYJvB8ILlidHiQwCX5eJzFlgJCIAACNgRgA6BAC7IuwOGVxDsmDQCAhDAEUDGFCAAAiDgkwB0CASwTxPy1h2G540besWfAEIg4n9GWCEIgAAIQIdAABfkXQDDKwh2TBoxAVyCixg4pgMBEAABRQLQIRDAiqYSbDMYXrA8MVo8CUAAx/NcsCoQAAEQgA6BAC7IuwCGVxDsmDRiAkUhgHfsIOrTh6hXL6KmTcsTXLSIaNw4otGjiSpUiJgwpgMBEAABbwSgQyCAvVmOz14wPJ8A0R0EoiLQuzfRk08S7bMP0ezZ+SKYxe9ppxGtW0d01VVEY8dGtSrMAwIgAAK+CECHQAD7MiCvnWF4XsmhHwhETEAWubIItvt9xMvDdCAAAiDghQB0CASwF7vx3QeG5xshBgCB6AiYxe6IEUT9+mU8v1ae4ehWhplAAARAwBMB6BAIYE+G47cTDM8vQfQHgYgJyCJYTA3xG/EhYDoQAIGgCECHQAAHZUta48DwtHChMQjEg8BTTxFdeWVuLePHE/XsGY+1YRUgAAIgoEEAOgQCWMNcgmsKwwuOJUYCgUgIwAMcCWZMAgIgEA0B6BAI4GgszTQLDK8g2DEpCHgjgBhgb9zQCwRAILYEoEMggAtinDC8gmDHpCCgTwBZIPSZoQcIgEDsCUCHQAAXxEhheAXBjklBQJ8A8gDrM0MPEACB2BOADoEALoiRwvAKgh2TgoA+AVSC02eGHiAAArEnAB0CAVwQI4XhFQQ7JgUBEAABEAABECAi6BAI4IK8EWB4BcGOSUEABEAABEAABCCAHW2gpKysrAxWEg4BCOBwuGJUEAABEAABEAABdwLQIfAAu1tJCC1geCFAxZAgAAIgAAIgAAJKBKBDIICVDCXoRjC8oIliPBAAARAAARAAAVUC0CEQwKq2Emg7GF6gODEYCIAACIAACICABgHoEAhgDXMJrikMLziWGAkEQMAjAaR48wgO3UAg+QSgQ1IogCdMmEDdu3cvt/PbbruN7rvvPkerfvDBB2n06NG0Zs0aOvroo2nEiBHUunVr7XcCDE8bWSI7LP9lOTUe3dhY+7I+y6hR7UaJ3AcWXaQEUOSjSA8W2wIBdwLQISkWwLNmzaIaNWpkCRx44IH0xz/+0ZYIi98777yThg0bRk2bNqW//e1v9NJLL9Enn3xiiGGdB4anQyu5bSGAk3t2qVg5yjyn4pixSRCwIgAdkmIB/NNPP9G+++6r9M7Ytm0b1a1bl3r16kUPPPCA0Wfnzp2G8D3mmGNo6tSpSuOIRjA8LVyJbQwBnNijS8/CzSJ4xAiifv2I1q0j2mcfotmziZo2TQ8P7BQEUkIAOgQCWMnU58yZQ23btqVFixbRcccdl+0zaNAgeuihh2jDhg1UUlKiNBY3guEpo0pcQxa94lm+djl1ntLZ+HHmJTOpUa1cCATCIRJ3tMW7YFkEi11C/BbveWNnIAAd4mgDRVsIQ8QA16lTh37++Wdq0KAB/fWvf6Vbb72VSktLLaE88cQTdO2119KWLVtor732yraZPn06XXDBBbRq1SqqV6+e8psKAlgZVeIalgxS+yBUNgB1ZhJ3uKoLTuLlsqeeIrryytwOx48n6tlTdcdoBwIgkDAC0CEp9AC/8cYb9PHHH1Pz5s0Nr+2MGTNozJgxdPXVVxsX3KyeoUOH0uDBg2nr1q15L8+ePZvat29Pn332mREKYfds3LiR+I94Vq9eTc2aNdMWzgl7f6VyuRDAqTz2/E0n7XIZPMAwWhBIHQEI4BQKYKst9+vXj4R0raQAACAASURBVB555BFDkB5wwAHlmrAAHjJkCP322295r7311lvUoUMHWrJkieNFuIEDBxKHS5gfXc9x6t6hCdwwQiASeGhBLzlJl8sQAxz06cd7vCR+OxFvooldHQQwBLBBYMGCBYZH9rXXXqNOnTqVoyJCIFgAV65cOfu6aggEPMCJ/TvC18JxCc4XvmR3ToKwTJJQT7Y1xGf1Sft2Ij7kim4lEMAQwAYBTmXGIRF2AhiX4IruvR/JhiCAI8Ec30niHloAMRRf2wlrZfjQExbZxI0LAQwBbBC4+eabadSoUUZ2hv33378cFZEGrXfv3tliGZwGjeN+ORUa0qAl7r0fyYIhgCPBHO9J4ny5DF+Hx9t2wlpdEr6dCGvvGDdLAAI4hQK4Y8eO1K5dOzrqqKOM3fMluHHjxtH1119vxAHzw6+vXLmSvvzyyywhUQhj+PDhRiGM8ePH04svvohCGD7+QoFA9AEPXeNPIO4e4PgTxArDIgDbDItsYsaFAE6hAGah+/rrrxve3l27dlHjxo3pyiuvpL59+2Zz+XJ54xUrVhh/xFNWVkaiFPIPP/xgeH65KEabNm20DR6Gl0EGAaxtOuiQFALwsiXlpNK7zjh/O5HeU4ls59AhKRTAkVmXw0QwPAjgONgh1hASAcRZhgQWwwZGAB7gwFAmdSDoEAjggthumg0PacIKYnKJnDSx3xDgclki7S01i8a3E6k5aqeNplmHuBlA0VaCc9t4FK+n2fBQKCIKCyuOORIrgHG5rDgMsBh3gW8nivFUPe0pzTrEDRgEsBshH6+n2fAggH0YTsq6JlYAp+ycsN0EEcC3Ewk6rHCXmmYd4kYWAtiNkI/X02x4CIHwYTgp6Ar7SMEhY4uFI4BvJwrHPmYzp1mHuB0FBLAbIR+vw/Ay8Irdw1fs+/PxFrDtim8IwqCKMUEABEAgnwB0iL1FQACH+G6B4UEAh2heiR46DAGMDyKJNgksHgRAIAQC0CEQwCGYlfuQMDwIYHcrSWcLcwjE2RM70+jXiI7qP4rqtuiUhdKodqPM//OlnnHjiEaPJqpQwRKaEMClO4l++fYiqnFdP6KmTcu3VRgrnaeCXYMACBQbAegQCOCC2DQMryDYI5kUMazBYWaWb3dsTL0XEu2sWYNK334nX7jKN9qvuopo7FhHATzmFTLGon32IZo929NYwe0OI4EACIBA4QhAh0AAF8T6YHgFwR7JpGF8hR/JwmM4CQvgC+9sTLOfJaq11SRc7dI57d6H1QeR474nmj+tKlXasNkQ1N+9MIHqt/2/jBf5tNOI1q2zFscxZIMlgQAIgIAfAtAhEMB+7MdzXxieZ3Sx7wgBHNwRidAFFq4LnqtBpes3ZATqiBFE/fo5Cla7c+CxhKBeW5mo1ujxrmMFtyOMBAIgAALxIAAdAgFcEEuE4RUEeySTxj0EIrEXwjRLtzp9EJFFcNYorMIiIrEYTAICIAAC0ROADolQAG/fvp3Wrl1LderUoZKSknIzb9q0iRYvXkwtW7aM3hIinhGGFzHwAk0XR7EZxzUpH89TTxFdeWWu+fjxRD17WnZ3+yBSfdJ0qnvDXUpjKa8PDUEABEAgIQSgQyIQwGVlZXT77bfT6NGjaevWrVSrVi266aab6NZbb6XS0tLsCj7++GM6+eSTaefOnQkxH+/LhOF5Z5eknrpiU7e9FxZRzOFlXa59ND3A8njl9rxyUy7mVzSEB9j1CNAABECgeAhAh0QggMeOHUvXXXcd9e3bl4477jh67733aMKECXTiiSfSyy+/TPvwPzxEBAFcPG8s7CRDQFdsmtvzGI1HNzbGWtZnGWVTf2kCdvOGiuG8jq+5HP3m5ktqCjHAdgJ4ZYt/Uv3zeuTihzXH0l88eoAACIBA/AhAAEcggI899ljq0qULDRw4MDvbp59+Sueeey5Vq1aNZs2aRfXq1YMAjt/7AyuKmEBYAjjRF/PsMjRoZG6wvUwnUqFpjBWxSWA6EAABEAiFAARwBAK4atWqNHPmTGrVqlXebGvWrKFOnTrRTz/9RG+88QZt3rwZIRChmDkGjTMBJ+9sxT0qUodJHXx7gBMtgHv3JnryyWBy9wY5VpyNCmsDARAAARcCEMARCOD69evTgw8+SBdccEG52TZu3EhnnXUW/fvf/6a77rrLiAtGDDDet2ES0A1LCHMtPLaqOJ15yUxqVGt39TMirXCIRIdA7NhB1KcPUa9e/qu3BTlW2IaB8UEABEAgRAIQwBEIYA5/qFy5Mv3jH/+wnG3btm10/vnn06uvvmpkh4AADtHiMbR2XG7YyFQFsHkdZQPKPC0tbh8APG3C3AnCNhCMGAQEQCA9BCCAIxDA06dPp4cfftgQuLVr17ackUXvNddcQ2+++SZ98803RW+BMLzCHbEsAN+89M1AQgz87MbOO+s2JgSwRAihDW7mgtdBAARAII8AdEgEAhg2V54ADC9aq2CRuWL9iqzYFbOPO3Mc9Xq1l/Eji+H2h7SPdmGm2czifPuu7dR5SmejlZ8QCHmaovQAB3BRrqAHj8lBAARAIGIC0CEQwBGbXGY6GF602FXDDLx6VYPaTVhZIIJaX6zH8ZkqLdZ7w+JAAARAIGAC0CEQwAGblNpwMDw1TkG1UhXAnGtXPIXIiQsB7PPEfRTL8DkzuoMACIBAoghAh0AAF8RgYXjRYBfxtR98+wF1n9Fda9KovcFWoQlFGa6gdQoeGmuUS/YwurcuuKTnjRt6gQAIhEYAOgQCODTjchoYhhc+dlk8epktDgLYy7pT3SeuHmBc0ku1WWLzIBBHAtAhEMAFsUsYXvjYVcMexEqCumTmdWfw9nolt7tf1DHAOl7dJUuITjstV34ZFeh8Hja6gwAI+CUAHVJAAbxq1SriP1wquUqVKn7PMlH9YXjhH5euAOb436jjfhNdoCL8I1SfoRBZIHS9uuY1HnMM0eLFRBs3lq9yx23HjSMaPZqoQgV1DmgJAiAAAooEoEMKIIDHjRtHgwYNIi6FzM+CBQuoadOmxAUzWrduTddff73i8SW3GQwv/LNzyq/LKc8a1myYlxqtEAJYVaRHHY4R/ukEPIOuGA1iei+i2ypEo3p1ojlzclXu5DZXXUU0dmwQq8UYIAACIJBHADokYgE8cuRIuu222+iGG26gtm3bUqdOnejTTz81BPCoUaPoueeeow8++KDozRSGF+0Rm+OB5QIYYiUQwNGeSaCz6YQjBOlR9RJ2Yb6kt/feRPPmZQSwnagOFBYGAwEQAAGkY3WygZKysjJvtVYdRj3kkEOoe/fu1L9/f6PkccWKFbMCeNasWXTppZfSzz//XPS2CQEc7RE7CeBCCF+x+9SEQBRKoIZtZryvCy8k4pheDmUQzz77ZH7HjxzKYOUB5jbVqhE98ghRv37l44TD3gPGBwEQSCUB6JCIPcCVK1em1157zfD+mgXw22+/TWeeeSb99ttvRW+MMDy1Iw7qYlgS8usGtVc1shG3KkSIQhRbFPtiL+6WLbkZx48nOu643MU3DmXo1Sv/ItyIEUQ33ZQvnHkEIZ7ZI4wHBEAABEIiAB0SsQA+7LDDDA/w7bffXk4ADxs2jKZNm0afffZZSMcdn2FheGpnEaQojLu3Nci9qtGNsJWXeFmr5cXNk8z7at2aaNOm/NVyXC9/gca/Z0H72GNEfftaZ4Fo0aK8eO7ZM8LDwVQgAAJpJAAdErEAfvDBB2ngwIFGvO9f/vIXql27Nn300UdG2AOHPwwdOpSuueaaordFGJ7aEQcpCuN+4SzIvarRjbiVl3hZ8xLj5knmPbVpk/PisieYH+EN5tCGuXMzYRBPPmmd7cEsoOEBtjbMuH34ifjtg+lAIGgC0CERC2Ce7rrrrqPHH3+cSkpKaNeuXbTHHnsYq2Dh++ijjwZ9xrEcD4ZnfyxheWq9COCiF6VRvzv8FqoIypMcxL7ltcgeX3lskeGBU5716ZMJgxChDXJ/Fsr8e/72a/16hEFYnU/cPvwEYUMYAwQKSAA6pAACmKf8+uuvafbs2Ybnt1atWtSuXTtq1KhRJKYwffp0mjx5Mi1cuJDWrl1LfDHv6quvpquuuiorxq0Wwina3n333XIvLV26lA4//HCttcPwHAxvUIkSS93UYCxmV6xfQR0mdcgb36kABgSw0lHoNfJbqjgIT7Leiq1bmwUZ5/S98spcWxEXbJXKLE5CPggWUYwBZlFQxhwpIgAdEqEA3rp1K/Xr148uu+wyatasWcHM7MQTT6QGDRoYeYfr1q1Lc+bMoeHDhxup2UbwxRSbhwXwjh07iMM45OdPf/oT8eU+nQeGF50AdsoHzKsQOYGtimCELYDDHl/HJiNp69cDLBYZ1Dh+Ni1/Jc/jiEpvYkz26nboQDR1avliFvBmeiMflw8/3laPXiAQKwLQIREKYJ6qatWqNHPmTGrVqlXBDOGnn36i/fbbL2/+m266icaMGUPr16+nPffc03JtLIB5/a+++qrvtRez4fkVdUGHQOiGPqjML3uS/aRR88vKtyFGMYAQinzZS74Ixh82RdqvSpUyuXB1Phh79SQHHUvqRZQFvYYozjEuc8Thw09cWGAdIOCDQDHrEB9YjK6h5AHu0KEDnXbaaXTrrbf6XV+g/SdOnEiXX345ff/993TAAQdAAPugG6So8zKWuU/j0Y2VdiNCKlQFsxjUjwB+66u3siEZ7Iluf0h7pbUWqpGX8yDh7SwpyWRGkC95TZ5MdNllmd+zCD7rLKI778zFycoblcsDL1lS3uOqenksSO9rkF/LQxSrm7XXDz/qM6AlCBQ9AQjgiD3A8+fPN7I98IU3rgJXp04d4zKc/HBMcNRPr1696IUXXqAff/yRSktLbQUwxw3zxT3OYdy8eXMaPHgwtWzZUnu5xWx4nkSSDUEvY1nl/BXDL1+7nDpP6Wz8aBf7G7YAlj3Mc1fMpV6v9jLWM+7McdS6YessCaWQjBoHlb9cZScaA6iA5uU8jOpmJ59MtG0bEb/XJ04k6to1v+qZEMe8dishKwvNtm2JON523bpMW11PcpCiNUgxHeRY2n8jJagDPMAJOiwsNc4EilmH+OUeigdYZHzgxZmFr1gwi8soHy7FfNJJJ9GAAQOMCnV2D7/OscN8WY89xRwLzDmL+WIc93d6Nm7cSPxHPKtXrzbioFetWkX16tWLcruhzKUSNsATW4k6pwV5EVxOfVTGs9sLC9SGNRsay+UQCCFcnS7RWe1NVWBbXfIrt/67HrJOr8UTy0LB6iKWB0tQ4Wc57CefEPEHRRbBZtEq8uS++CLRnDnWuXLN8bVmoWz2JH/0kbUXWSzOS9iC1caC9NoGKcw9nG0iugR1bonYLBYJAuESgAC25xuKAJ4wYYKt8BVLueKKK8I9dWn0NWvWGJ5cFqFz5841SjOrPr/++isdeeSRdMQRRxjV7Zwezn08aNCgck2KRQD7EXWqvN2EsnjdycvLbURIhErogiz4VNfplp3CDyvzela2+CfVP6+Hs2hUDQ2w2aDjh5vqB1Gd2+6lDZdfSPXb/l/5EXTDFpwEDqcU4yqR27e7e5JVBH8cPYkQePZvM3xAUP0rCO1AQIkABHDEAljpVCJqtGHDBuKLbZyd4v333zeKcug+1157LT3//PP0ww8/OHYtdg+wH1Gny9yqver8LHqTJoCdslhw3PBhK3+lA8/tRqXrN1h7V2fPznpDzQJa5UOAE9sxrxD1Xki0tjJRrQ8W5ntdrTzQKrGbTsKUPa5unmS+TDd6dPnMC1aGo7KeIAxUZ4w4CnOd9YfVFiEiYZHFuCklAAGcUgHMordjx460fPlyoxIdhzZ4eTiWmWOH3QSweexiM7ywQiBUz0RVALt5Z83zyYJRpEvjNiqxxHZr112rSvvjvidaNH2fjCdYPBae36AFMM87+1miWluJdtasQSdcsIEW/4HI0jPN6zKHMth5p52EaVACMahxVI1Up10chbnO+sNoG2S4SRjrw5ggkDACxaZDgsQfSgjEQQcd5BoCwUUywnw4ly+XYX7vvfeMP8dwlSYPD4dAcPjD0UcfrZ0arZgNz3OcqIczEF2iFuB+9qh7CU5FADOHNTWHUt0b7spRHD+eqGfPPKpeBLAb2z0/+0/WA82e4H4diMa9VyPnkWYPtCx+rWKAJS91XuyynZj3KxDjHGoQZ2Hu9h6FSHUjhNdBIDYEilmH+IUcigDu06dPOQHM1djmzZtn/P6cc84JvRwyV3wbN24cPfDAA9SCc5NKDwva6tWrU8+ePemZZ54xCl/ww+vjS29cPIO9xXwJ7qGHHqL//Oc/xmu6hT2K2fD8iEO/Rsv9o5g/qDnkNGhi7+awBJU4ZNkTm2W427u6vEE149IeP/LlPf5ZvtjHF/zcLina7nvRItrZrm1G9JpFq1n8CrFrFdPJbdu1y5QD5kISjzySyxUsvMVLlxL16EH0++/l5xJlhp0MKc6xpIUU5kGI16SFKQSx5yD+0sIYIFAAAsWsQ/ziDEUA2y1q27Zthvg988wziUVymE/Dhg1p5cqVllNwVTiOC+7WrZshgMs4PykRffnll8a6OOvDL7/8QlWqVKGTTz7ZyByhK355vGI2vKDEoVcbCGp+v9kkVNZvJW6t4nKdvMB54tfCu9r0/HVGWILK4xYiYmYij/nbk6PpmLsezf7qh5FDaeOl51Odm++hGs9MdU9vdu65RO+8kwvj4EtvnBVCFtBVqhD9+mvmd5w3+IknygtkNxEcV5FWaGEeBJdC70HFyOU25j3zt4H870+vTGrCbMiOuFQpX+oMIK2g7nLRHgSCJFDMOsQvp0gFMC+WMyn07t2bvv32W79rj31/GJ71EQUhXoMeg1eqclnMi9E5eXflOUUYglyBjuebd+woOqn7PYbnlWNwS99+J3MRTRIiHJZw2uWkJIJ1BbC4UGjlgRbzLqlLtOPHqzKiwkqcClGxaxfR3/6W8fxyXmBOGyi8vrxZvvwmxK9dPmGVjBdx9foFIUC9GKHoE5R4LaQXW3f/5rVyjukXXiDiD1/s/Ni0Kd8GRQy7SpYR3bWgPQhETAA6xB545AL42Wefpeuvv57WyRd5IjaIqKaD4YUngIM4Qy+xsrrzOmV34LH+fvbfqfuM7sawQgyb17X+m4uUvKv/u7gzLR18ve8QCPMe2TMti18RAzzizczFOCGCFz2Z+SbF8ZGFKTcUYkN4ta++unwKNCvxllRxEgdhHpR4TVIcs7xW/vDFeei3bMlYFv88d27m/2V7lGPW3ewar4NATAlAh0QsgF/kZPem5/fff6elS5fS6NGjjfADzqpQ7A8Mr/wJRyE63ezKztNqVezCKhzAKcWaub1qiWZZAPP/543T+wtqNGCUu3d1d1qwoBl/+85L2Qtwv9eoSideuNnwNNt6pt0OQH7dSkTtuScRX4DjSnLmB19P69C1bxuUePV7UTGY3aiNYrVn7sme4Icf1g+zUZsVrUCgoASgQyIWwHIlOHnqSpUqGRfMHnvsMdp3330LahRRTA7Dy1HWEZ3mswki3EGMqXLZTLTlUIEoBTCnYGt/SHtjej97DloAk/S1/bfPP00N5nUx1mh4rFduKh9DqfvmSpKI0t1bnNv75R6UiI6SkXnPe++d8wTzOlTCa6JcL+YCAZ8EoEMiFsBWl88qV65MderUcU2P5vOsY9Udhpc7DtU0X0qlgWs38nzOquvgCVQFsCw4WcR2mNQhKxDFQlU9wSwqxeOWrcEOQuACWPranrNNlPOA+/HKJlFEeba+GHX0yz2oMIookVjt2SyALdIKRrlEzAUCQROADolYAHPe3aZNm1LVqlXLzcx5dRcuXEgt+bJLkT8wvMwB63pdzWbhxxtqHktVAIuCGHIxDE4nxk+vV3ffHt89+PC2w+mOd+4wfuI24nU5pEJVAMvrdbusVoi3T5BnkZcL2Cpv8KxZRE8/rRz6QXGIry3EoejO6Ve8BnWRTnfdftpb7fnGGzMX4OQHHmA/lNE3hgSgQyIWwKWlpUblNavUYSx++fc7+RJCkT8wvMwBq4pOq4wIhoBeu5w6T+lsjGUVp6tjRizgzFkWdPr7aStfeFMZRwhgXdGp215lLYG3URFRHAu8bZt7ajVxIa7QGRYChxTCgCrc3URg0jjb5aJu0yaThYQf9gRzyjM5K4lbqr0QjgdDgkDQBKBDIhbAHAM8f/58SwHM3uEzzjiDNm/eHPQ5x248GJ5376+OaHa6lCYbhV0ccpwMxyoEQlfQ6rYvyP5VRRTnAeZiGLIo0xVxdu0LsvECT6rK3SnLRtI87eY98xGIbA9yKrS//CWTk5ozFLl9CCjwMWJ6EFAlAB0SgQBmwfvhhx8aM91yyy103XXXUf369fNm3rp1K7388su0a9cuWrBgger5JbYdDM+b95cPPAwBrDqmncENaTPEKJpy99y7lW1SCFrVEIggYqATIYBVRRRXgzv99JwoGTHC+ba+36/3lU92d0PVfezO0KE7fODtk7beIACY92wliMeNI+IzWrLE/6XOINaMMUAgIALQIREI4EGDBhH/McRLSUm2upo8dcWKFalJkyb0xBNPGBXWiv2B4ekJWbYHIRRFDC7/zikEQu7jVMhCJw6ZxxTz+w2XkMMYhL3PXTE3GyfMorr/nP7GS+YsEKK9SgiIXb5hvyEjsXiP6l7Y0m3vZ5NBeFT9zI+++gTS+CFAnxJ6FAkB6JAIBLA8hVMIRJHYlNI2YHiZEAgrIce/MxeBsBOzVqnIdMSh8aFsUInSmYlGQjj6FcBWotwuawTPLdqrrlcIbN32WjAsGkfuZdZN2aXb3isQ3XAMr/OgHwiAAAh4IAAdErEA9nBGRdklTYanIojMXlirlGFW8bxei0vI4QSqAtHJEHUvscmCVh5XJbew6npTIYB1Pbq67f3+7RN12IXf9aI/CIBAagikSYfoHmqopZA55vfrr78m/q/54TRpxf6kyfCsQgzM3k+z53P7ru3Z7A7mFGN2Hlge00s8rd/sDyw0VUWpbNduHmBzjLBcDlnHyx11CITKB55A3t+64lK3vc4inb4653lbt85Pq4WLVDp00RYEQCAEAmnSIbr4QhHAXPb4mmuuoYkTJ9IO/kfD4kEaNN2jind7uxhbc2ozVfFqtVtZHFqFJtiVMrYSkio0zRkZVAWwXS5gnlMUt9ARrLpiU7e9Cgtuo7Nm1TEd2+mGF+i2112kW7xvixb5VcVQVEGXMNqDAAgETAAC2B5oKAL4rrvuomeffZYeeOAB6tq1Kz3++ONUpUoVmjRpEn311VdGKWROhVbsT7EbnlN8rzhb+WIX/05VRDoJYCHGzGLaytvqZz5zRgZ5v/JFNh079hKy8NZXb2Wry5l5Ws3tVwDb9VdlaVvAQ/fykZvgFKms/OQB1lmTnCHAnJZNzikrDiUqD7DOHjjXLR4QAIHUECh2HeLnIEMRwI0bN6bbbruNunXrRpz5gVOeHX/88cY6+Xd77bUXjRkzxs+6E9G32A1PVRAJTyp7P+1EszkEgn9uWLOhUbTCqrKalQfYrwCWPbduQlM3q4Qw2KgFMM/rlB1DVUDr7NdWAOsKWl1hp9ueN6+7JqsQi5tuyhVUqFaN6JFHnFO1Bf23l+4egp4f44EACMSWQLHrED/gQxHAe++9N73xxhvUokUL4v+fMWMGncbeGiJ666236OKLL6aff/7Zz7oT0bfYDU9VAIvDcooJ1s2Xa2UAInWZHGYgp1WTY465P7fnp8OkDuWGcxONdoKQx5TnsUtDphNO4MWj66WPgGDV1yl+WznVmiweucAFlznu2pXKlUR+7DGiefMyeVnD9lh6CZuwumTH8Fj8zp1LxPcboiy+4WUPifgbFIsEARDwS6DYdYgfPqEI4EMOOYRGjhxJZ511Fh155JHUpUsXGjJkiLFODocYMGAABLCfU4tJXyHidOJ6Ze+gUzYEP1vkOcwC1Upg24luN/FrfJCTwhLktbIYrLhHxayoVhnLTnBmBamHUtC6AthOkL92wQw6+f4ptLRLCzrpX9caS5K5Hfc90ZxtF1GN8RPVxCqLtZNOylR3Kykh6t8/I3RF9S0Wv337Zn52qkbmx0Dkvuw1vvBCotmzc2Vw5WIbXCmMP7xPm5a/P3OaNS6ly6JdvtwrC9Ow9xLm5b+gWGMcEACByAlAANsjD0UA9+zZk2rXrm3EALMQ5spw55xzDlWqVIleeukluuSSS+gp/gekyJ+0GJ7Xr8edBLDw5spFIFTNxUoAW/U1i1XRRkW0qnq/VcayEquq45s/UHgVzXbzjXmFqPdCorWViU67nGjxH4gEt9se6ECznyWqxUledATe5MlEl11GVFaWOxaOl5XFb1TxsyJ8gL23LMg3bsytSS6TK+/PygPMbbmMrjm7DbcVVcai9GaLXUTFUfXNiXbFTcBLGFJxEyn47tKiQ7yADkUAr1mzxvDwHnXUUcaaHnnkEXr++efpt99+o/bt29M999xjXIor9qfYDU/2Gk77fJptiWARz8vnzXG9IkRB5fzNX71zf36sqqPJccFecvaK9ah8pa8qUFVEdVACWHVNVjG6dn3ZwytEriyC5d/vrFmDSt9+p7z4czrge+4hGjw41+KKK4hmzMh5gtkjq5Iq0e8/uLKYZS/uli25NYmfzRfexOU7/r1baWYVIw+yTVQFQIJcM8YqHgKIR4/dWRa7DvEDPBQB7GdBxdS32A1PVXCZz9T2kpTF4dt9lW/1e7uwBL82ZZUNgsX2dxu/o+4zuucNL4t9fkHEF6t4guWBdGKERT/V87Di75TRwyyC+3UgGvFmxvPLorjWBwvVxKpYqF0MLb+u67EM4h9cqxy+Yq0irveYY4guuojozTczuX7NoljkAK5Zk+jtt/V4+DVQJ666PINaC8ZJJwHEo8fu3Itdh/gBHqoAXrduHX3++ee0atUq6tSpE+2zzz5GUQwOheByycX+FLvhzWXPDAAAIABJREFUqQquqASw1/W42aFZMKrOIxftkHMYW1W7c1qDajyvF9FsNa+V1/2Hea/TERdfnwl32P2w5/e7FyZQ/bb/54Yw97r5H8izzyZ65pnc63ffTXTvvWrjWcXvCs8xzyNSk7mJQLmteWYR2sBhDE8+mXlVvuzGP5v764SDqO3UvRVigN0ZoUU0BGCL0XBWnKXYdYgiBstmoQjgXbt2Uf/+/enRRx+lLVu2UElJiZEKjau/cf7f5s2bGxfhiv2J2vDchJLb67rnIQQXe0PldGXmcYRXVIQvOIVAqK7RSqTpXMYTaxQXuqxCKkQbeb068c4cStF5SmdjGKvKdqpeYVUmMve8Pr2/oEYDRhH16mXtmTTFqdpdyruvR2N6aoY0i26hB/M/jHLMrxiW43AnTsxkh3B7rOJ3RViCnJrsL38heuEF69FUQyDktcrxvnJ/uwtzVjP7Dd2Qx4TXzc1S8HrUBKy+5XH7IBr1GlMyX9Q6JElYQxHAQvzef//91KZNGzriiCPo008/NQTw2LFjafz48cbPxf5EbXhuQsntda/noeoRVQl90F2j6tx2exNrUp3X73zyOqISwOu/uYhqPDPVOrzAIlOBFYtv33mJqnbukucB9hWuYL7w1qcPEWeK4Ytxe+5J9OGH7mEE8tqtLrExbLO31mwIQkTLF95EG3lM9uryB4ig4n+DCN0Q6wxyLK9/CaAfCJgJIB49FjYRtQ6JxaYVFxGKAK5Xrx7dfvvt1KdPH+KSx1wMQwhgzgN8wQUXEIdHFPsTteG5iTi3172eh6oodBLAVp5VFYGoOrfV3oa3HU7nHnFu9iWV0AQ/85nXoHLZzuuZyDxXtvgn1T+vR/kLZqq5ahctop3t2lLp+g1GzO/2+4ZS3UEPer+wxiWDRaoz2SvE2SF69iTati0n1jn2lsVxjx6ZvMFmL7bcp7SUaOfOHDKr1GRmoOyJNcf2yhfbWAR36EA0dWomDVpQnq0gvbZBepO9Ghz6gYBMIKj3Caj6JhC1DvG94AgHCEUAc6W3V199ldq1a1dOAHOBjHPPPZc2b94c4TYLM1UUhucW98mhCfxw+IHq1/y6tHgNVpXZxDickeGU+qfYZn9w628ucCGvT96/1/LE5v3aCW9z2IW5sAaPw3s9sPqB5XirMFXxkKuMY9nGa1zeJ58QsWDlvL122RC4qAXnwG3WTG15Oh5LHpFjb3kOpzVYzWyXmszuH2qnbA9yVoqgPFtez0SNMlqBQGEIwK4Lw91m1ih0SKw2rLGYUATwsccea1x6u++++8oJYPYMz507l+bPn6+xzGQ2jcLwgvJI+hVfcjywubKaELB8ilbxv172wGOaMyx4GUe2LDePs9mDzn3NccfyGDrxwjyW3zPI7sXOI+jFK3PEEURLl2Zy5Jpjc+V8vk2aEH3xhdobVcdjuWRJLuyA18AhEuacwVazWqUws2qnI8bHjg3OAyzW4uVM1CijFQhETyDIbzaiX31RzhiFDkkquFAE8IQJE+ivf/2rEQZx3nnn0XHHHWcUwOBsEP369SN+ncMgiv2JwvD8ij5xBn7Fl+o6zALRSkSq2IVZAHsdx6sAtsszLIc1mL3iqmWSVfbv2EaIOk7J1a4d0Z135uJpzfl3W7XKVEGzK9LAHuCWLfPDEsylfjlm97331D3AuhuU/1EVIlj8124sOX7X6fKNVzEeZA7goDzKulzRHgSCJqD7gTLo+TFeOQJR6JCkYg9FADOMhx9+mAYOHEi//vorle2u+LT33nvTvffeSzfxDe0UPFEYXhxCIPgoVQUwtxViW7UPZ5Hg8sJyzl2zAPaSAcJsglYxuU75cXVN2EuZZN05jPZmr6IIBWBPrrkCG7d3ypJgHi9I4aezOafcwWIcFr2PPELUr18mPtl8iY09uF6fsDxb8AB7PRH0iyMBnQ+UYVdGjCOfAqwpCh1SgG0FMmVoAphXx3G+H374oVEVrlatWnTyySdTdf7HOCVP1IbndsnN7XXVY7FLk6UqQnUFsNW6+p7Qlx5b8JjxEgvkXq/2Ul2+cjtep6pIVx5UaugWcuFlTHE2XLxiwZSqVCpi7StXJtoqJfGVf9aNlRULizqtkdlTKgOSsz2Ys0PIl9i8QOU+YXi2ECvp9TTQDwRAQJFA1DpEcVmxaBaqAI7FDgu4iKgNz03gur2uispuHKc4YB7bfJktSO+q6tp12nkRwDpiPEwBzPs0sj+ccxl/Es3fNpch//XXjId0167M/6uIWZWv6sPyADl5gK3iky3Su+mcfbm2Qe8rLI+yr02iMwiAQLERiFqHJIlfYAKYc/1OmzaNjj766Oz+p0yZYhS+qMmxiCl8ojY8N4Hr9rrqEbmNY1eS2Cntl+6FMdW1yu14/h83/1iufLFoI5cx5qwZfGFPFumqHm5RXIPHlTNvyOKYPwy0P6R93jaW/7CU3u58BI07nmjxHzIv5YlkU8EKKwblzubcvxK9+275puIi2dVXZ0r78uNUwUz1q/qwPaV2McBWAl6Blxc7CqRPGJwCWRgGAQEQKCYCUeuQJLELTABzaWPO7NBsdyokzv/LJY9FBbgkQQlqrcVkeG6xxoIZi0bVsAH2sNp5jWWxyPl6a+9d2zbMgdu2btjaWIJTOjadc7W6FKizLzGXOXWaOXOFvKYN3S42ClZwrt3TLs+I4KwAdvBo2p3NvGNH0UmX3ZULg5An45LDo0fnYmWdwgR0vqoP0rNpztFrzgIhxLv8ezldmc6BR902aI9y1OvHfCAAAokgUEw6JGjgoQpguQBG0AtXGW/ZsmV03XXX0bx586hKlSp08cUXG6nZOE+x2/PMM8/Q8OHDacWKFXTooYcapZvPP/98t255rxeT4emIvzDaypfezIcgp1nj11Q9tU6HaSWAZc+2LNCdPLs6AliutiZE8LRhy6jRyk35FchMIs+KN8cAz36WjMptmyoQVd1BVGK1YbfQBy+CVkcwOx2C8JJym4oVibZvz4Vq8O/atCHauDEzAmei4AIaTl5srXcvGoMACIBA8gkUkw4J+jSKVgCvX7+ejjrqKGrQoAHdfffd9OOPPxrZJ04//XSaNGmSI8fnn3/eELucxq1Dhw5GCrfHHnuMZs2aZfys+hST4emI2jC8xarMOcyh85TOqs3z2okiFnZeWh0xKwa2E838Ogt3fr7b+F3mv5u+oxcm988KVxbBH/b9P2r/5Fu058ZfaWfNGlT69jvlSgSbz0YWvxsqcYoOohrbbJDwe6FrV3teXr+qVw2ZcDopq8tsnNKNH1GSmC/w8f/fdlumUhx7tXG73JP9a3WSPdiiWp9cpU8OP+FczuPG4Wy0AKMxCARDoJh0SDBEcqMEKoA//vhjOuGEE4zRRQnkhQsXGnmAo37uv/9+I+XaypUrad999zWm55jkrl270hdffEFNOHG/zcOvcSzzc889l23RsWNH2rBhg1YBj2IyPB1RK2N1ixe2qwJnjhcOwqurYoNWBTas+rntS/RR/eAgz/Hn/xHN+ztRZamqr/AIL3qyLJPmTBIU5rP59uLO1Hsh0faqe9EeJaVUumlzRjz3vY5o8OD87bh5gP18Va9yac7tUILyJrvNg9f1CMgfjNq2JXrhhXzvvPiAwin25szJhNrAO6/HGK1BIAACxaRDAsCRN0SgApjz/HIssHg4DZr5d/xaSUmJISbDfFq1amVcvnv55Zez02zbto1q1KhBQ4cOpZtvvtly+m+++YYOPvhgevHFF6lLly7ZNhwS0b17d8OTLAS12/qTaHgqwk6ljWDjljGC28kXxUQ/4R0V3lj2znLpYXO6M52sC27nxa97FcDcV4h0+eKaFwE85hUyBKz89Dyb6OmmRGVnLcx5Py0EBfNuMqoxjX6NqOsBHajaq2/aV04TsbNhCJMgPMACQJBjqRhBHNr4+eARxfrN3nm2JQ5HYY88533ni5WqxUiiWC/mAIGUEkiiDonqqAITwIMGDdJaM8fUhvnUqVOHevToYcT8ys+RRx5JJ510Eo0fP95y+tdee406d+5MS5cupcMPPzzbhi/z8QU/jic+9dRTlZaeRMNTEbfmNnbizxC3vywPTBg6QTeHLygdkEUjWVA7Za0wd3US+nwxjx/+ryzgRYGPNZvX0M9bfqaH5j9ktLt4CdGkF4lyHyWJtteoRj/fN4AOuHNoxptm47nNW0fvL6jRgFFELVoQ9e2b6zdiRK5YRBhV3MLw2gbhTfZqFIXo5zX0JMq1mkXwzp1EW7ZkVsClqDkUhUWx27cMUa4Zc4FAyggkUYdEdUSBCeCoFqw6D1/AGzx4sBHHKz8sXlkcs4fX6pk8eTJdeumltHr1atp///2zTb788ktq1KiR4VE+++yzLftu3LiR+I94eAwWzVwCul69eqpLL2g7JwFslapMpPyy8n46bcSLZ7SgYMwpyUyLceKms1c5fncX7RbBptRfHM5wwgUb8rNE7F5PuXXYXaCzu9zmFzKXTmbB/fvv+cJHnq9SJaJ589RLJyfRA+zXg+vl8qHfs/PS361CH8SvF6roAwKBEYAAtkdZ1AJ4yJAhdBtfjpGeU045xRC2L3DMmsUjBPCaNWuobt262RbLly+nxo0b04wZM+iss86y7Muln6084XEXwKrxvbxpK6Gr4jU2A7ObU87F+8l3n1D/Of2NrkPaDKE6VeqEUvFN9W8ac+EKVW6q8cuy+OWY3z5nEE18pwaVrpfChUpKaPUTI+gPP9xiLNu1mEbUnsQjjiDikstWxSkmT86VYuYY/C++cEdvFs78fhbp22RxFbecv0FwD8OT7k5cv4VThT7+pq1nT/0x0QMEQCAQAhDAKRTAhQiBSKoHWNVDyWJLiDk59Zgcw6sTNiDMMogiGEI4L/x+Id3xzh3lLP6G5jfQyI9Hav+F4hQTrMONJzbnKJbFPr+286peRuyvnAf480o30pF3PpK37g1XXEQ1D5qqJoD9eiJ1ibEHuGXLTEoys0AVF6M47IIvRj3zDJGcOUCei8XfsGFEb79NtH49EXuNhVf5scfyQzrkn8OIZ9ZlwO2D8uDG3fsND7AX60AfEIiMAARwCgVwGi7BefG8WpmCqpDzkmLMKp+ulTdY1Usa2d8aRMRxxXWq1smmVfOamUJm4CT2S3eScXlNVIKTPcJi37sqVaKPptxPp35+o/ErXlPFPSqSU4GNKJkZc6l4LjmLxZNPWseHmkWVqFonxzHLolfkAI7b1+0qHJo2dT+euMY/IwbY/ezQAgQKTAACOIUCmNOgcQwwp0GrXbu2QWDq1KlGMQyVNGjHHnus0V48nD+YcwtztTvVJ2zDC0oAO6Ui85pTVzByEsBBeH5VzyKMdnYlj3ku2UPO1fHEo7rnPPG7zz7Us8U6GvFmprCF7CE278s1JCIMEFZjunkuVT2kXOzirrsyuY/Nffr0IXrggfLe5iD36NeD7sbBba1++7uN7/V1ZIHwSg79QCBSAmHrkEg3E/BkRRsDLAphNGzYMK8QBufzlQth9OzZkzjF2Q7+h273M336dLrwwgvpjjvuoPbt2xsX30aNGhW7Qhh+BbBdDKvg4FR9zc4O5bLE3EYWf+Y+qmIwYJsPbDgnz66dEJX3LEQyhz/IGSJk8cvZH1a/+Cw1mNeFzDHColyy7Dk2KsdJgtvYbKHiY908l148pFELwiBied042FmkFz6BWbfLQMgDHBVpzAMCvghAANvjK1oBzFvmUsh9+/al999/38hHzN5f9gzLpZC7detmCOAyzl0pPfy7YcOGZUsh8wW3OJRCdhKtdl5Hu+NXDX0Qnk67WN8Pvv2Aus/obkzDa2h/SHulN2wcBTCHPXBaMhFHrJoWzbwXHU+s+RxEHmCzp5fH3POz/9D+f7mMKm3YTGOPJyp9chydOmwSNXnxPcMz/MU/RlHdFp2y/PPKKEcZH6sqVFXbyRblVVAqWaWpkaqn2lSeOjuKl/2JDy0iZtoulrqQIR+oBOfFmtAHBCInAAGcUgEcuaWZJgzD8FRFq0rsre5Ydh5nudyvnQCW+7LIFII56DNikWhVWEN1HnNaN7fCGOIDifmCm85lQPM5mGOBxdrFmX77zkv02q1djCwRO0vJ1jPMHuNF0/dxzBusykWrna7nUkfQehWUWhtwEcFyHmUnEarLQZ42CM+znz2jLwiAQFEQCEOHFAUYLspWZnZ9FsvOYrCPMAxPV7Q6YZC9yXNXzM2mGLMLY7D6+p7H1+2rcjSDWw+mCntUsMzoYNVf9n77uVDH43DFORH7LHuArcR9EOdhFYPNIvjr5Z2I/tqLth17pLFlEdrA7S+8szH1WphJlWYlgvt1oGzMcKSFCHQ9pjqC1o+gVDE6pzY66wzCg+s39tjvfpPWH7ySdmJYb0QEwtAhES099GkggENEHIbhCbHEy7aqLNawZkNjR/xfp/hb87ZlLy6/Jr7CN4tekW1AFZvwWoYV7iCErywOZQFs523mft9t/E7bE232rAchgGWWglO2HLKFh5E9wFU7dzEuxP3v4s60ZNA1hmBnj+/8aVWN8IjsE/XX5DqeS06BJn/N7+RZ1RXWqgaq007HU63DYexYnVWgrRUB8IZdgIAlgTB0SLGghgAO8STDMrygRRcjUBHAclyr6hpESIHsJe57Ql96bMFjyuTZG3z33Lst21sVp5AFsNNFPiGedUImzAJYtRiG6ocRIYBZzC54bncRDJcY0OUNqmXzM6+pOZTq3nBXjlXUhQhUPXE9ehCdfnr58Aw7oVtogaPrAVblwEU9uGRwkE8h5w5yHzpjqXxA4lzSTz9N1LVr+ZELdVFUZ49oCwIeCISlQzwsJXZdIIBDPJKwDE9VfLrFAduFQDASOUOB2esrp//itnaX4/yEIqgei9ta5By5qmPK7XRieZWycpjEibkPX3IT8b1ft/4n1T+vR04k2nhILUWz2ETUHmBVyLqCtpCirpChF6o85Xa6bL3MEcc+TuckF1IxX1iU+0V5UTSODLGmoiMQlg4pBlAQwCGeYliGF8TFK962qpA2I3IKO/DiJfZzBHJ1Oj/j2PXVyeagJIBN4kT23q5sIQle8Q+xgudRxATPfjaTJ9iI+VW9qBUGNJUxCyloVdYn2qh4FsWHjGOOIeLcxE7V7bgASBheX3lPOmtWKcShw6vQbe3eL+bqgUIE27Eq9D4wPwgERCAsHRLQ8go6DARwiPijMDwl0WWzR68CWAxnFd8rC0Y5rEIOYxjYaiANfHegI/kbmt1AIz/JlC52CpnwkqtYTCxKEX/8v4+zIRbid14qqymdhekf3G+ff7pcjt9yl9bcYk95zHbtMiWDq1Ujmju3fOEI/n2HDlwNJviv3EN8DxV8aB1vKi9WVLeTC3jw7+VzP/dcon33DVcIJ81rHeRB271f0swkSL4YK1EEotAhiQIiLRYCOMSTi8LwlESXzR79XkyTww9EuIOcjUEOjZCzKQSdBs1uTi9HK8YS+7G6DKjjFbZaA19iO/DcblS6fgP9XqMqXd1qczZjgyh8wZkfjLhhBQ8wCZHGk1WvTjRnTkYAC+HVujXRpk2Zn4v9K96gPctu433yCVG3bkQTJmQ+WIhLfcyaP3SMGUP04ouZM1m3LnM+nHOczyPss1CxHS9vkjj3cduz2+tx3hvWBgIeCEShQzwsKxZdIIBDPIYoDM+PAOati3AKuZgF/14WrG6I5Fhjv15lt7msXmdBfWD1A8kcq8y/55RmvV7tpTysSgo4vwKYGeWVOt69OnPhi7KzFqplSWCRduGFRPy17saNmRAI+Ste9kaaf69MxNTQTRCGdZlIdd5du4j+9rd8BmILTrGequObwxfMHmKeS/A2M5bFb1Sx2W7fHni1gzj2U/XwpolJHM8Ja4qUQBQ6JNINBTgZBHCAMM1DJcnwrLJAqF5iK7QADvEIyS3Mw8vc4kNCj0VET83IjdDzbKKndztudbJA5Hl7VdOKeVk499EJCQgyvZfqvH/5S87bqlNBTXV8s9fWKoaUObVsSfTrrznKlSsTVayY8fxGJX7T5O1UjXuWY4HF6UR1Hl7fc+gHAj4IJEmH+Nimp64QwJ6wqXVKkuFZCWDepbnCGf/OKTOCW1owVVGtRjj8VlZp3Oy8xKqrKXdpbXdH2QPslAc4LyzCSZCF8Q+8qtCwKw2sCsncTmde7is+CLDX9eGHifr1y0+5xm3kC2k645svjll5Hq+7jmjLlvK7ZbE1a1YmHVeYl+VUvaFezyNu/VQ/wOy5J9G2bcm4KBo3xlhPIgkkSYdEDRgCOETicTc8O7HKSNzSoMl5be3CMPzGGHs9GhbonP6MH3OxiyFthlD/Of1th+bLes3rNTcKiaiKdbd0c+UmW7SI1p5yvJGxgUWvXLVNiOAldYlGv0bUe9zCXDyvPJBTqEHYX/EWSly5pbmSc7zyRTOOvZUf4emTBbL8AcLPvqy8rVZWxnmZFyzIXZYLIyWXHzHv9U1X6H5uISyTJxP17JkTv8gCUegTw/wREYi7DokIg+U0EMAh0o+74anG67LAc4o1lr3HcrlgKwHs5QIci9J61etpV20TR+slVZpOHzc+eSYmiZNdlSrR58NvpGM33Z8XE7yzZg36cfjdtPf8T6nG+Il6WRui+to7qnnM70+rea1yvHK7Fi3yvbCtWmW8wXKYiJMAFXOrfkVu/uDBYQ977JG/BnExrm9f9SIgun9HqXpDw76Ep7vuMNuDSZh0MXaMCcRdhxQSHQRwiPTjbnh+BbCdh9cqc4LA7CdtmZ++Xo+Z5+Tnw1UfZlO3cRq3k/94cnbI9oe0d/yAkDe3+Id491exLHZPuGADLf4DGSI4W/1NiDodkeLHg+kFUNieZrs1mee9++5MSjHOsiB7eb3G4XrZF7OXs23Ia2fRu3NnTghbieAg8za7eUPDuqjoxYai6gMmUZHGPDEjEHcdUkhcEMAh0o+74bnF6wo0VmV8ua9VfDD3EaJR9JezM8g5gK849gp65rNnlE/ATgDz7znbQ+cpnY2x5BhluzUqT6rQ0OwBFl0ss0WIf4jZO7nbC7izZnX65wEbaVgLopnHPUgHXH8n0e+/54s5twIKUX/tHScPMIte+XKTWXCaz1DOlWx+zcu+zH3Y87uVK5JwtZkSookTiZo0yc8OwbHJTzyRtYHsMvj37KGeNk3P869gp2gCAiCQPgJx1yGFPBEI4BDpJ8nwdNOpqXqPg8DLYROn1D/FGMoqLtcsjO2KcaisRRbPqjHAPJ+c81jMY66YV25+k3DaXIFor72qUummzfniV3xl7+QNjvIr3qg9zQKc27wsgq++OpfzmPux2L3hBqLBg3P4996baN688rHVbuNbXeyT+9SsmSlIwnl+Of6YxS//v+yVPu88om++yayF45Q7dSK68sr8tfHlOR3Pv4phow0IgEAqCSRJh0R9QBDAIRJPkuGpCmDhNVYVh0HgtQqpkEWvWQDLhTF01ymLZ9lDPnfF3Gw+YZEFQnVsx0tyLKDMeWNFMQuG5xSvKsON6iveqD3NduLX7hLTQQdlioeIRw6PkHmx+Hz++dxvvO7L6oMHe385U8Qll2Rijjk0Qy5tLWKTq1QhKi3N5GiWHycPdRBvKIwBAiCQGgJJ0iFRHwoEcIjEk2R4qgI4Ss+vOBohaGUva9hhDvJlPl6Hn4wWIpWaXeaMNTWHUt0b7sr3Aj76aPnUXeb0WyHaru3Qdp5mczEOq/RsbmEcTvtR9XCL2GkxluyF5TjbG2/MeIjZW/v22zkvsOr45n1ZffCQx2KvNHubRQENrhx36qlE27fnnzf/JNKmcb7g998natYs/BOO6oNT+DvBDCAAAhYEkqRDoj5ACOAQiRej4RVCAOscEQtjEQus0k/EK5uryLlls+CxzWWT3eaTPcFCUOddfLMaQDUDgdvkQb1uJ5iE6GPvZYcORFOn5mJYZe+q16/23YSaOc3VNdcQDR2a2bWIw+3aNb+0NItlFqcsNN3G17k45uRNPvnkTCouq4dDM4QI5rV99JF1CrygzpLH8Sr8g1wDxgIBEAiNQDHqkKBgQQAHRbIIP3lZeYXtwgJCxBjY0Fblne3ihVUEsOhr/lBQujOTw3fc8WRkdxBPVgAvWkQbHh1Bp1WcSm9MIiMfsBEnyh5KcwEFzhvL+Uvj/ngNIQhiX1Zzs9j9f/8vN7r8QYLF8qWXZl47/HCipUuDWEX+GE7xxHazCQEsvNZePyzo7KaQ56azTrQFARDwRAAC2B4bBLAnk1LrlBTDUylkYZXRwEtYgJwHWP5/K3GqRlm9lRwrLPbDOYzFY5fqbOH3C+mOd+4wmlmtk/fBT/cZ3Y3/iipuv9eoSmtenEjbjj0yO8een/2HDjy3G5Wu30BbS4kq7yQS7bjRgedcRqWbN+c2laR4UC+XyNSPz76llReTSyL/85/5fTju984782Ouu3Qh6t8/vypcEGviMewySowcmbn4JodBiDlFdgg5bCKo9diNU6hzC3tfGB8EQICSokMKcVQQwCFST4rhyULW7nJZUALYKgyAj0Ce11wsQ1w6e+GLF7JC9IZmN9DIT0Zanh73P7D6gUaatl6v9sq2Gd52eLa/8PCGEdLBYQ2zn5U8u7svbDW9qiT7eyF+ReU3XmS2jzmNV6HDIHTCA5YsyV3cE+TDXr95fSIe+Y03iH79NWcje+2VKUwhfmfOxxuGx9Uqp/BxxznnDJ47N/zQB/M7x0v6txD/7sTQIAACwRBIig4JZrd6o0AA6/HSap0Uw5MFsJ1XVr50xhD4QpdKP67idvfcuw1uPHa347plGdr1l/tw45tPvJk6HtqRzHG6WodhamwXvuBnTNk7zCL442nVqOKGTcTFLkoffIjW9rkyW/6446VEPRdnwiRk8cuCuNYHCzO/HDYsc1Fr/fpcKq1CXITTjRP1UkjCD3hzXzkeedeufBEst23blmjx4vIV2YJai5WoZA8vr4m9/LuLoWTa2UrWAAAgAElEQVSnEyEQVnHUQa3JaZxCn1sUe8QcIJAyAknRIYU4FgjgEKnH2fDsimCo4nBK7SWXRpbFrPDkijnkrAhheGLlvZjjcuUQiO82fkePju1OvRYS9TmDaGepKgXndnme4N1NWQx/98IE+vyPlbKX9Vb+v05Uf+rrhlDm1+q3/b/cwEFcIPO7HZ04UZ5LpG4T84bpAbbyTsvr5VRjnJaMK7HJDxer4GwLnBGC1zdrFtHTTxP16mXtfdW5BMfzeIkBZnHM+xEX4cLwSNt58+EB9vsuQX8QiCWBOOuQQgODAA7xBOJseH4Fp2WVs90sVceWRbRqH5XjYtHdvF7zvBCIL5a0pCYvvkci5GDILTOpUa1GxnC/vP8WNb7oWsM7O/Z4oqvPynirRfENqyIXKuvgNj0WET01Q2rNeWnvvTe/dHLvL6jRtXdniiZYVQDTFV+qi3NrJ4slWdiKC3vmlGJWbfr18+9hdQrBkEtLv/deLnWYVX5lq/0Kcc4p2p580trTrvshROUDg1gLX3jjGGRRyjnsDw1W3nx5veICnkgnF+aHFzf7w+sgAAK+CcRZh/jenM8BIIB9AnTqHmfD8yI4rS6RWe1fdWxZAMte4zCORPbGChHMGRrsfi8EsDnUQ2dtK1v8M3vhLdtvd0qu5ac3y1a143b1z+uRXzBBZ6Kw2prFkixw5TnF5TKroh12YlBnzU4hGJzR4bLLMh8eOKTgww8zHlyeVxSccJqrVatMsQqzeOe4bX68hKGorlcWu336EA0ZktmHnLZNh5NKW/N5yCWk5ZzJ8u8hglXIog0IxJJAnHVIoYFBAId4AnE2PDkEQrWiGXt9RVsnD7BdeIVVHLHAryqa/RyXWez260A04s3MZTVZFMtzsEi3i1W2WwuHW0x9nui876pnqnyxgJAFDhH92uJEqtF6Ph3zA9GC52oYWSGyJXMLEedrtRkr8coxs+bSvZyxIEgPqnktKh5Vu4IXKgZjVXnPz0VEFY81e1j/9rdMmWauFJd9I+wunxxU+INbiAiHgcjZKGSxq+v5VmGNNiAAApESiLMOiRSExWQQwCGeQJwNT+UCm3ypiz2idarWycatOolZGWlYFebkjA4838BWA2nguwONqYe0GUL95/TPO1n2Xm/ftZ36P9g5l21hdws78csvmwWwqOrGGSbMl/IEr+nTiM4TqWWFuGJR++yzVHbFFVSye97fjjmC9lq1OhciYK4aFqJtKg8tiyBzjCoPwkKRvaWcr3jt2kyaMbOA5zG4KEXt2kRPPJErkKG8CJeYWhZtssdSZ1zRVhbBrVtnYoPFE2QqOlmQHnNMJl763Xdzc3GIzI8/ZkIiOKOGn+p5PKqdN5rPxLxPK09vocJvvJwh+oAACJQjEGcdUujjggAO8QTibHgqqc/kkAc3THaX4lQFMLdjUcnP5CWT6Zklz2SnZEHb7MBmxJfVRK5d89pUslcI0WqOy10y9Do6dvujxnxehL1YqFhTngCWxdN55xG98EJ5lGYBF5T3z+3QVF+3iqfljAWlpRmhKLIZ2AkoERrhd19uF7XMWQzE/vgiHIcWiMtl/DM/nA6tQoXMxTN+WARzOIRqMRKd9HA8j/mxsgfBkNsGwc3Je24OEVEtuuJ336p2h3YgAAK+CcRZh/jenM8BIIB9AnTqHmfDUxHAcsiDGya/AlguSPHKf1+hxxY8Vm5KOY2alyIcPKBdZoYTLthgVG1zCu2QF2Q1f7YvC4SLLiJ6881clgGu8iYujZl3xl4/cQkqqnhLq9y5HKYhsiDInj/2RJ5ySiabgnhYLHE+WyHS5BCE3XmPy2VCEL93Myan1+1SdVmJYx6HxW7HjkQvvpjxVvM6OSyFv/pnATh8eGYPssfXPL/dmeimh5PHNXtg5Q8U8jqDsAerjBQ33ZThID+qc/nZt5+zR18QAAFtAnHWIdqbCbgDBHDAQOXh4mZ4KrG58lf74ut+sSc5G4Kqp1QVr2oMsFiTl8wMsvgVuXlpd5YCEQYxbdgyI8ex6uPo4bYQZdv3qkylv22lPaQJykpKqIQ9lKoCRHVxTu3MIkaO4ZXDCdhru2wZ0Zw51mKJfytEsJw5gAV/EBkgzKLRKsWa+cIWhxaIsAI5ROOXX4i4QhyXlt62jYjX+9FHmRn++tfMxTn54QtyLP45RtfNu20XO+vWTxa75hATOXzG75nbfUDg+R95RO+sVGKyo7Rlv2zQHwSKmEDcdEicUEMAh3gacTM8VZHp15vrBanq2lTGlmOXRe5huQRxnphZtIh2tmtrXEJjEbx55j/z8/CqTOjUxuSx3FyBqOoOol1EeSLY+HnSJKKuXf3OqNZfNRsAewrvuScTQsCPlbeaf88CukcPotNPz7/UFZQQcsqra/Y+swA2e+C56AWHn/B6eE+DBxP9/nvuZ96X+eHzaNIkJ/DdxKxID+cm/FWza7BYtwqZUTvh8q3M3nP2OvMFRpE1wyqLh91cTucR1Jl73Sf6gQAIZAnETYfE6WgggEM8jbgZnqrILIQAtguBuOSoS2jK51O0Tslczrn9Ie3tLwPxyGHddrfxum2oRDTyRKIB75m2FbVwMIsYcyou9pSyaDKn5nJKbWYWWbvzHpc7QJ3LVU4ex5NOyghZq9Rhcj8Wk+zFFt5clUtzqvG4brHJ5s1bxdCaubH3mUNGrGKHtd4NuxtbrdHsYdZ9H+ju28u60QcEQMAXgbjpEF+bCbgzBHDAQOXh4mZ4cgjE3BVzqdervYzlOlVok/ejeqHNL1JVoS7mMYdjyGEcLIYb1mxITUY1ptGvEZ3xQM7DK+/HyMX73KxMLG4QokMSBxxuse2IxrT3hwuMJW+qSLRrD6Ia23KksmEQfi+K6cK3EjHCoyrGchOXYs12Y02cmO/Z1hVaTjGnn3ySieVlEWzFzhzLLHs5OX8xxzLLD4cEjBlD1LdvfuiD8UYZZ28ffsoIhy0kzR8g2EPO6exEij45Nlvngwkz8bNvXVst1va4VFisJxuLfcVNh8QCyu5FFKUA3rlzJz300EM0c+ZM+uKLL2jHjh109NFH04ABA6hdu3au/Ev4H3zTU7duXVqzZo1r32IWwFqb99FYVwALkWuXmowFsEhZJl9yC03QW3ksWXRceCHtnPU6lW75zaCzs1pVKn1kZC7+krMpyNXMfDDU6moWMVdcQfRMLguHEfZw773lh3QSl3aFHZy8x3aLDlIg2MXCirlFJgQdke5HwIYdShBmvK6ffWsZaJE3xqXCIj/gwm4PAtief1EK4M2bN1O9evXoiiuuoPbt21PFihVpwoQJNG3aNJoxYwadeeaZjhbJArhv3750ySWXZNtVqlSJmmoWKIib4akKS7sQiKjexhMWT8imO5Nz+sqe3g++/cA2JZrTOiMRwA65V3e2bkWlmzYbS9x0Zgeq9sob+SEYhQyDEODMHmC3NdmJLLlKm7nkr9uYYRqbXbo0ntN8mc0tD68fARumOBX8whJXfvYd5tkmcewo7CCJXLDmQAjETYcEsqmABilKAcwe4I0bN9I+/I/Z7qesrIz+/Oc/U/Xq1WmO+Ua7CSYL4BEjRtAtt9ziC3PcDC8pAliGbuellUsn6+Qr5nAP9gjzwx5jEQYSaFYLO4/lbjGyYU+itw4mOnbOF9SobpPMdnU8jr6sUursFgPcv79aejYvpX+DSInmhYNdmIbqXuU5/QqXsMSpvMYgvediXL/79nJuxd4HHyiK/YQLtr+46ZCCgbCYuCgFsB3gnj170vvvv0///e9/Hc+gWAWwSho0BqOTBixsYzbnKxbiVU6DxqK24h4V6btN35WrAOd1fYF5wc2Vv+Rcu0L4Ci9jEJW/VDds/gdXvhQmZ1UwpxizEq5uIouzSHDWBfGoFlxQ3YtqO3nPYo+6e5Xn8itg3bjpxuOqcvDbzu++/c5frP0RUlKsJ1vQfUEA2+NPjQDetWsXHXnkkXTYYYfRSy+95CqAa9euTRs2bKAqVapQx44dDY9w/fr1tQw5zoZn51kNLS5Wi1yusdeCFx6ny3YLTADHVSzo5AHm4hheq5LF5R91eR1y5TqzwDfnQB471t6Ukipg/b450rpvv9xU+uNSoQoltNEgEGcdorGNUJqmRgCPGjWKbrzxRpo7dy61bNnSESbHDnOcMF98+/zzz2nw4MFGHPFnn32WF1ZhHoTDLviPeFavXk3NmjWjVatWGTHJcXqSIoBlZqohHE6cIwmBkBcQ9dfFquJk5EiiG27IVX4z9zN7H714I+P0ta4s+GfNInr66fyqd7LAZ8HvFvsbpzcz1lIcBOLyYbE4aGIXuwlAABeBB5i9sSwo3Z6DDjqI9mQPj/S8++671KFDB7r++uvpgQcecBui3OtLliwxLsANGzaMbr31Vtv+AwcOpEGDBpV7HQJYG7llB7sQDiFq5ZheMQDHB/MTaRYI8+qjFIJx8TjbCX85bZldYYkwxKfdBwPxe06lxkUhzGnwvAj/YMwdo6SJQJR/R6SJK/ZKEMBFIIA5i0P37t1dzXnx4sX0pz/9KduOxSt7fDmMYerUqWSV4sx1UCIjfOKoo44yMknYPUnyAMt7SFJssFVIhMjsoOvVjjTcIyrvTtQeZ7s3g50QF78Xsbdy7t5CXASMywcGlb+E0KY4CcTlPVucdFO/KwjgIhDAXqz4q6++olNPPZWaNGlCs2bNIk5l5vU54ogjjFzCTgLYPHZSDE81tCCwuFivh0BEiRXAvOeo4vvi4E2y87iaY3FF3mM7EeDDVpS6xs1TrbRoNCoqAvgQVlTHGbfNJEWHFIJb0cYAc9GKU045xUh7xiEQ/F+vz7/+9S8jhdp9992nlRotKYZX7ALY67kH2i8qD7BYdNTz6cCKg0CX12u1nmuuUSuxHHXlPh3OaJsMAqpx+0FVqUwGFawyIAJJ0SEBbVdrmKIUwL/99huddNJJxB7gSZMmGZfZ5OfEE0/M/njooYdSgwYN6O233zZ+9+CDD9LXX39NrVq1ojp16hiX4IYOHUp77bUXcXhFzZo1lQEnxfDiHgIR9/W5GoQksLgscq+WG2jEm0S1tpoKL7gOpNkgKo+z5rKM5nET6FbrkVOkifRvhfJUe2GMPiAAAqknkBQdUoiDKkoBvGLFCuLLcHYPF8UQT8OGDYn/cHYIfl555RXjshvnCt60aRPtt99+1KlTJxoyZAgdcMABWmeURMMz5921ujymBSGAxknyUJfbrkkwffv809RgXhc67nuiBc/VoNL1G/KrjwXAK5YC02pfcRPo5vVwCWj2uq1blzmjESNyZasLWckuKBvBOCAAAkVPIIk6JKpDKUoBHBU8t3mSaHgQwG6nqvm6Kb5veYNq1Hh0Y2OQlS3+SfXP65ERWH6/Spe/RuXBRVovIdxuuomIU/TFRbglwQPMrOS8wOLo48JQ0xQL1hxf8RcMPSYGgSTqkKhODQI4RNJJNLw4CuBEh0Ds2EEbrryMNlx+IW079kiSK9hx+eWjVv1ONZ6dRj/ef0+uLLIXmxRCu1o1Iv7qXha7PF7r1kSbNmVGLrSAS0IMcL9+Oc8vV++LQyU7L3YRhz645BWHU8AaUkogiTokqqOCAA6RdBINL+5iM9LUZQHZRiQhHGaPKl/6nDMnswPhDZbFsV+Ps1c2cUv5pLIeEQsMD7C3U1dhXOgPZd52hl4gEHsCSdQhUUGFAA6RdBwNz01ARiLWfDB3W7+Pob13dfmKt+lVJdRrIVGfM4h2ltpP4zvNHAuNdu2I1q8nYrH7yCPlY1Z5+jAKTajSi5s30Gk9kycTXXYZEd8Z4OI6jz+OGGDVcza3i5vX3+s+0A8EEkYgjjokLgghgEM8iTganpuAhAD2YBAuom5nu7bGZbcNV1xEH9x1GXWe0tmYhEMgGtVqlJ2wUe3c/3tYRaZL3GJrzRuJWzxoUvIVezaIGHWMu23GCBWWAgJBEYijDglqb37HgQD2S9ChfxwNz00Axz0EIsTj8j60xle88iU4UcHO+8Q2PeOWXSHwDWoM6FVwx81TrbHlWDeFbcb6eLC44iMQRx0SF8oQwCGeRFwMz6uodRPLIaJL3tBOX/GKeNymTfMq2RlZIJ6blUm1VaGC+55VxNywYUSc05rDIMST5vhKr0JWhXUhQ0ncrSV+LeABjt+ZYEVFTyAuOiSOoCGAQzyVuBie17AGCGBN47D6B56H4HhczjMtCeC8PMCqF9LcxJw504M5by2n9Jo3T11wa24/r3lcBKSGd57PB09IBBADHBJYDAsCzgTiokPieE4QwCGeSlwMDwI4xEM2D23+infvvYm2bMlPPea1mpiTmGvTJpP6TDyTJhF17ZofEyyyGagKbj/Y3MS6yEwRxVogvvycpP+++BDinyFGAAGPBOKiQzwuP9RuEMD/v71zAbKiuP7wARaIIC+BGAIWLAiKuIFYBND4F4gPUJFICjGKFUAIiohWDA9TokAQVFYgCPIqtKAUC0SMRHkZElAsw0uoIJGUYgBJXJTIM9mIQfdfZ8hd7u7e3Tv33pnpnpmvqyyV7ek+/Z0zy++ee7rbR7y2BF62JRA+oonm0KkywFr+oKcI6Bm8XtwmVpWYS6aaXPZQ/jSDd991stG+NttED1+/n3N30Nl5mz4M+Rr0DA4B+wjYokPsIyOCAPbRKzYGHmUNPjk8XQ1wQgQnps+lLrcyMadZ4J/8RGTUqNTX9+pRXm+/LdKli08Qyg1rW+aVDVhnHRS0IA1acAcT3cwCgVAQsFGH2AIOAeyjJ2wMPASwDw53k+1MlEIkpl+0SGTo0OyNqUrM2ZTttMUWW+zI3uPePekmXt1+QEPceucXRoKADwRs1CE+LDOrIRHAWWFz95CNgYcAdue7jHqly6iVr8/Vwd0KjFSGuBFzNmU709nit4iyLROdUXD51NkrJuliP8hab59QMSwEwkzARh1iC08EsI+eIPB8hGvT0FUJOBUaidMZGjYUefrp3G4TcyNclE1CeCQ45SK4c2HtRqz7KaK8zHbmwsHGZ934Jp3d8E1HiJ9DwCgBdEjl+BHAPoYmgecj3DAM7bU4cDOeHrmmpz3oiRBebLrLhbMbsa6b8dysK1sBnyyu160Tef55keHDz24CTJ5XT6PQP4/b2b7psvNu/O/Wz27Gog8EIOApAXQIAtjTgHI7GIHnllRE+3md2Uw3XvlzgDdsqCj0shWSmbooU1Hrl4hKzs6ruF2woOKRdPrnd98t0rv32c2DQRzNlilPP/p7kQFO2OXlWH6slTEhEFMC6BAEsJHQJ/CMYLdnUq9rW9ON17+/yMqVqeuLy2c758/3l1M6sZ6qNrSyY+Q2bqx4bJv2zTRbm6ko95eQ2dH9+MDhRTbZLBVmh0DkCKBDEMBGgprAM4I9vpOmE8jZiMZsaWZrS6qLRPT2uuRzi3MR834Iv2wZmXrOjw8CZIBNeZN5IVAlAXQIAtjIK0LgGcHOpGElkEpE6VqSrpKutF44kzWbEmvZfijIZG1u+maTna9qXD5UuKFOHwgYIYAOQQATeEYIMCkEXBJIJaIeeujc9c4qgmfOzO0EjWRTTHxd77XwdIm2Qjcvhbgf2eRs18VzEIBABQIIYASwkdeCwDOCnUnDRqAqEeX1GcrKxlQGOIpiMShR76VoD9v7gb0QyIEAOgQBnEP4ZP8ogZc9O54MKYFshEo6EfV//ydSXHwOSC636Jn+ut70/F6HVTb+zsaGdDHChRvZUOWZGBBAhyCAjYQ5gWcEO5OaJJCNUHF7kUhiXdke5WZLBtZUBtpkXOQ6ty2+y3UdPA+BgAmgQxDAAYfc2ekIPCPYmdQkAS+FitfZ0mzEuV8sTdQg+7WWoMb1Oh6Cspt5IGCQADoEAWwk/Ag8I9iZ1DQBL4RK8hi1ap29wW3gwIq3xs2eLaLHpM2ZI5KXV/XKg/q6Ph1/MsDpCFX+c9hlz44nY0kAHYIANhL4BJ4R7ExqA4FchUoiW6vi96uvKt7elqj5rF1b5PTp8Nze5sWHAxv8a9IGsucm6TN3yAigQxDARkKWwDOC3dNJP/riI2k3p50z5of3fyhtG7f1dPxID5aLUElka3UD3KhRZ68oTq79XbpUZOjQs+I325rgoOF7WR4StO22zJfrBytb1oEdEAiIADoEARxQqJWdhsAzgt3TSRHAWeL0UqhEJWtqUw1ylm41+lhU4sAoRCaPGwF0CALYSMwTeEawezopAjgLnH4IFS8FdRZLKn0klzriXJ7NxeYoPEv2PApeZA0GCKBDEMAGwo5TIIxA92BSFb2J9tHRj+Tml252/nf1naul7QXnSiAoh0gB20+hkktJhQdx4QxBFtcrkpmNA/fMeNEbAv8jgABGABt5GQg8I9hznrTapGquxiiZUOKqX6w6+SVUbMkA+ynwYxUoGS6W7HmGwOgOgbME0CEIYCPvAoFnBHvOkyKAc0Doh1Dxo6QihyWWuUpZN+AVFoqMGVNxo14uc/AsBCAAAQ8IoEMQwB6EUeZDEHiZM7PhCUogbPDC/2ywNeNqS0baIldhCgQgYB8BdAgC2EhUEnhGsHs6KZvgPMWZ+WB+lVRkbknFJ2yoSfZiHYwBAQhElgA6JIYCePDgwbJkyZIKK1+7dq307t27ymA/deqUjB49Wl555RU5ffq0/OhHP5LZs2dLy5YtM3pJCLyMcFnZGQFs2C1+lFR4sSQywF5QZAwIQMBnAuiQmArgzZs3y1I9MD+ptW/fXho0aFBlyPXp00d27twp06dPl/r168tjjz0mJ0+elN27d8t5553nOlwJPNeorO2IALbWNeYMs60m2RwJZoYABCwngA6JqQDesWOH7NmzJ6Pw3Lp1q3Tr1k1Wr14tN910k/PsJ598Im3atHGywPfqV7IuG4HnEhTdIBAWArbWJIeFH3ZCAAKBEkCHIIBdB9yECRPkmWeekaNHj0q1aueOw+rZs6ecf/758vrrr7sei8BzjYqOELCfgJZjfO97Inv3pr5+Ofl65nvuEZk/3/41YSEEIBBpAuiQmArg5cuXS+3ataW4uFgKCgrk0UcflVtvvbXKYB8wYICT8d2yZUuZfiNHjpT169fLvn37XL8sBJ5rVHSEgP0EEhvyatUSef55kYEDz9mcnBlu315k926RvDz714SFEIBApAmgQ2IogGfNmiV5eXnSoUMHOX78uMybN0/efPNNWbFihfTv379SItdff73UqFFD1q1bV6bP+PHjZe7cuU5muLKmdcL6T6IVFRVJly5d5NChQ9KiRYtIv2QsDgKRJ0D5Q+RdzAIhEDUCCOAICOATJ06ICsp0LT8/38n6lm/ffPONXHXVVY5A/eCDD6oUwCqc9bSI5PbII4/I/Pnz5Ysvvqj02YkTJ8qkSZMq/BwBnM5r/BwCISHABrjUjrL1tI6QhBVmQsAvAgjgCAjgxYsXy5AhQ9LGyK5du6RTp04p+xUWFsrYsWOdkojKTnPIpQSCDHBa99ABAuEnwBFoFX1o83nN4Y84VgCBrAkggCMggLP2ftKD06ZNk3HjxlUpgNkE5wVpxoBAxAlwCUZZB1MeEvGAZ3lhJYAARgCLlkDo8Waa/a3qaLTEMWjJF2ZoCUPr1q05Bi2svwGwGwJeEiADnJom5SFeRhljQcATAgjgmAnggwcPit4Ed8cddzjn9x47dszZBLdx40ZZuXKl9OvXr5SI1vsOGjRIntOMzv+aXoShpRTJF2FoDTIXYXjyPjIIBMJLAJF3znep6n75cBDe2MbySBJAAMdMAOtJDVov/N5778mRI0ekVq1a0rlzZ3n44YelV69eZWjoWb8qgLXGONG0ljdxFfJXX33FVciR/LXAoiCQIQG+5i8LrLK63/LlId27i2zalCFsukMAAl4QQADHTAB7ETRejEHgeUGRMSBgCQE2epV1RKoPBNqjZ0+RpOMgpX59kY0bRa64whJHYgYE4kMAHYIANhLtBJ4R7EwKAX8IcNRXRa7JIrhePZGvvxYpLj7br06ds5eBqBhu1Ehkw4ZwiGD87M/7w6hGCKBDEMAEnhECTAoBCESegIrgHj1ETp06t1QVw4myh+uuEzl2LDwimEx/5EM2TgtEACOAjcQ7gWcEO5NCAAJBE1AB/NZb52ZdtEhk6NCz/5+cJb7nHpH584O2LrP5qPXOjBe9rSaADkEAGwlQAs8IdiaFAASCJKCC8dprRY4fPzdr+ZIH7bNwocicOWfLImxvnPZhu4ewzyUBdAgC2GWoeNuNwPOWJ6NBAAKWEYiyUORIN8uCDXOyIYAOQQBnEzc5P0Pg5YyQASAAAVsJxKFUgBv/bI0+7HJJAB2CAHYZKt52I/C85cloEICARQSivlmMDLBFwYYp2RJAhyCAs42dnJ4j8HLCx8MQgIDNBKJ8XFiUSztsjils85wAOgQB7HlQuRmQwHNDiT4QgAAELCIQh9IOi3Bjir8E0CEIYH8jrJLRCTwj2JkUAhCAQPYEol7akT0ZngwhAXQIAthI2BJ4RrAzKQQgAIHsCUS5tCN7KjwZUgLoEASwkdAl8IxgZ1IIQAACEIAABEQEHYIANvIiEHhGsDMpBCAAAQhAAAII4CpjoFpJSUkJUeIPAQSwP1wZFQIQgAAEIACB9ATQIWSA00eJDz0IPB+gMiQEIAABCEAAAq4IoEMQwK4CxetOBJ7XRBkPAhCAAAQgAAG3BNAhCGC3seJpPwLPU5wMBgEIQAACEIBABgTQIQjgDMLFu64EnncsGQkCEIAABCAAgcwIoEMQwJlFjEe9CTyPQDIMBCAAAQhAAAIZE0CHIIAzDhovHiDwvKDIGBCIAQEuX4iBk1kiBIIngA5BAAcfdZy/Z4Q5k0IglAS4fjeUbsNoCNhOAAGMADYSowSeEexMCoHwEdi5U+S660SOHRNp1EhkwwaRK64QqezPw7dCLIYABAwQQIcggA2EHVcQGoHOpBAIK4HyYrewUGTMmIqiOKzrw24IQCBwAghgBH9D8koAABU/SURBVHDgQacTEnhGsDMpBMJLIFkEJ1aRnBEO78qwHAIQMEAAHYIANhB2CGAj0JkUAmEn8NxzIsOGnVvFokUiQ4eGfVXYDwEIGCCAAEYAGwg7BLAR6EwKgTATIAMcZu9hOwSsI4AARgAbCUoCzwh2JoVAOAlQAxxOv2E1BCwmgA5BABsJTwLPCHYmhUD4CHAKRPh8hsUQCAEBdAgC2EiYEnhGsDMpBMJHgHOAw+czLIZACAigQxDARsKUwDOCnUkhED4C3AQXPp9hMQRCQAAdggA2EqYEnhHsTAoBCEAAAhCAAMexVhkD1UpKSkqIEn8IIID94cqoEIAABCAAAQikJ4AOIQOcPkp86EHg+QCVISEAAQhAAAIQcEUAHRJDAVytWrVKV/3pp59Ks2bNUv78wIEDkp+fX+FnXbt2lS1btrgKuEQnAi8jXHSGAAQgAAEIQMBDAuiQGArgVGL1Zz/7mdStW1d27dpVKZGEAJ46dar07NmztF+9evWkQ4cOGYUlgZcRLjpDAAIQgAAEIOAhAXRIDAVw+SUnhO20adNkzJgxaQXwihUrpH///jmFIYGXEz4ehgAEIAABPwhw6ogfVK0cEx2CABbN6I4fP14++eQTadGiBQLYylcVoyAAAQhAwHcCnDvtO2JbJkAAI4CloKBAGjduLJs2baoyLhOZ4iZNmsjRo0edZ3784x/LU089JRdccEFGMU3gZYSLzhCAAAQgEAQBbh4MgrIVc6BDYi6Ad+/eLR07dpQFCxbI8OHDqwzKoqIimTx5svTq1UsaNmwoW7dulSlTpkjr1q1l27ZtUrNmzUqfP3nypOg/iaZjdenSRQ4dOlRl1tmKtwQjIAABCEAgPgTKi+DCQhEtDzx2TKRRI5ENG0SuuCI+PCK6UgRwBATwiRMnRAVluqYnONSuXbtMt3HjxsnMmTPl8OHDGWdxdaDVq1dLnz59ZPny5TJgwIBKTZg4caJMmjSpws8RwOm8xs8hAAEIQCBwAskiODE54jdwN/g5IQI4AgJ48eLFMmTIkLRxoic8dOrUqbSf3vPRqlUr589WrVqV9vlUHXSM+vXry3333eeUQlTWyABnhZeHIAABCEDAFIHnnhMZNuzc7IsWiQwdasqaaM5rcNMhAjgCAjjbt2Lz5s1yzTXXyLJly+T222/PahgVwHoM2siRI6sUwOUHJ/Cyws1DEIAABCAQBAEywEFQFjG46RAdEmMBPGLECHnxxRfls88+kzp16mQV7K+//rr07dtXMj0ajcDLCjcPQQACEICA3wSoAfab8LnxDW46RIfEVACfOXPGufGtd+/e8sILL6SkkJeXJ4MGDZLn9GsgERk9erRUr15d9OY33QSnG9+eeOIJueSSS+RPf/qTaH+3jcBzS4p+EIAABCAQGAGDgiywNdo2kaEPHOiQmArgxOa1NWvWyI033piSgl6ZrAJYa4y1qRCeO3eu7Nu3T4qLi6V58+bSr18/Z3Ob1gFn0gi8TGjRFwIQgAAEAiFg8Cv5QNZn6yQGSk7QITEVwKbfAQLPtAeYHwIQgAAEKhAwuCkr9t4IeNMhOgQBbOSdI/CMYGdSCEAAAhCAgH0EyABb5ZNqJXrEAc0XAghgX7AyKAQgAAEIQCBcBKgBts5fCGAfXYIA9hEuQ0MAAhCAAATCQMDgpkN0CCUQRl4RAs8IdiaFAAQgAAEI2EPA4KZDdAgC2MiLQOAZwc6kEIAABCAAAXsIGNx0iA5BABt5EQg8I9iZFAIQgAAEIAABEUGHIICNvAgEnhHsTAoBCEAAAhCAAAK4yhhgE5yPrwgC2Ee4DA0BCEAAAhCAQJUE0CFkgI28IgSeEexMCgEIQAACEIAAGWAywKbeAgSwKfLMCwEIQAACEIAAOoQMsJG3gMAzgp1JIQABCEAAAhAgA0wG2NRbgAA2RZ55IQABCEAAAhBAh5ABNvIWEHhGsDMpBCAAAQhAAAJkgMkAm3oLEMCmyDMvBCAAAQhAAALoEDLARt4CAs8IdiaFAAQgAAEIQIAMMBlgU28BAtgUeeaFAAQgAAEIQAAdQgbYyFtA4BnBzqQQgAAEIAABCJABJgNs6i1AAJsiz7wQgAAEIAABCKBDyAAbeQsIPCPYmRQCEIAABCAAATLAZIBNvQUHDhyQ/Px82bZtmzRr1syUGcwLAQhAAAIQgEAMCRQVFUmXLl1k//790qpVqxgSIANsxOnbt293Ao8GAQhAAAIQgAAETBHQRNwPfvADU9NbOW+1kpKSEisti4BRX375pbz//vvStGlTycvLM76ixCdBMtLGXZGTAfgxJ3zWPIwfrXFFTobgx5zwWfFwlH145swZOXLkiBQUFMi3vvUtK3jbYgQC2BZPBGAHNckBQA5gCvwYAOQApsCPAUAOYAr8GABkn6fAhz4DtnR4BLCljvHDLF5yP6gGPyZ+DJ65HzPiRz+oBj8mfgyeudcz4kOviYZjPARwOPzkiZW85J5gND4IfjTuAk8MwI+eYDQ+CH407oKcDcCHOSMM5QAI4FC6LTujT548KTNmzJCHHnpI6tevn90gPGWcAH407gJPDMCPnmA0Pgh+NO6CnA3AhzkjDOUACOBQug2jIQABCEAAAhCAAASyJYAAzpYcz0EAAhCAAAQgAAEIhJIAAjiUbsNoCEAAAhCAAAQgAIFsCSCAsyXHcxCAAAQgAAEIQAACoSSAAA6l2zAaAhCAAAQgAAEIQCBbAgjgbMmF/LnBgwfLkiVLKqxi7dq10rt375CvLprmf/jhh/LAAw/I5s2bpW7dunLHHXfIk08+Keedd140FxzBVS1evFiGDBlSYWXjxo1zfEmzk8C+ffvk6aefli1btsiePXvk0ksvdf5dvunv1CeeeEIOHDggF198sUyYMEFuu+02OxcVM6vc+LBHjx7y1ltvVSCzd+9ex+e0aBFAAEfLn65XowJYhdTSpUvLPNO+fXtp0KCB63HoGAyB48ePy+WXXy4tW7aURx99VD7//HPnODv9sPLiiy8GYwSz5EwgIYDXrVtX5j1r3ry5XHTRRTmPzwD+EFi1apXcf//90rVrV9EPot98800FAfzKK684Yvfhhx+WG264QV577TWZPXu2qK/1/2lmCbjxoQpgvTpYP+wkt06dOnGNsFn3+TI7AtgXrPYPqgJ4x44dKbMY9lsfPwufeuop+fWvfy0HDx6UJk2aOABeeuklGThwoHzwwQeiH1xo9hNICOAjR46U+tF+q7FQBW/16tUdEJX97tR3sKCgQF5++eVSYL169ZITJ044mWOaWQJufKgC+Pzzz5c33njDrLHMHggBBHAgmO2bBAFsn0+qsqh79+7SsGFD0SxGop0+fdrJIk6ZMkV++ctfhmtBMbUWARx+x6f63bl//35p3bq1vPrqq9KvX7/SRWpJhJa86Dc2iQ+u4ScQ/hVU9vcfAjj8vs1kBQjgTGhFqK/+Ali+fLnUrl1biouLncyFfrV+6623RmiV0VnKt7/9bbn77rsr1Il26NBBrrzySlm0aFF0FhvhlSQEsPrzn//8p1PS8vOf/1zGjh0rNWrUiPDKo7O0VOJpzZo1cvPNN0v5WtHt27dLly5dnHKzq6++OjoQQr6SqgTwe++955S4fP31107Jy+TJk+Waa64J+YoxPxUBBHBM42LWrFmSl5cnKqC0vnTevHny5ptvyooVK6R///4xpWLvsmvWrOn8Itb6wuSmf6mqmNLME81+AuvXr5etW7c6f7FWq1ZNfve73znv3ogRI2TOnDn2LwALU5ZA6F6Ku+66S4qKiuQ73/lOKSXdeNW2bVvnm5u+fftCzxIClQlg3bSoH0rVZ59++qlTC/znP//Z2RiniQZatAgggCPiT60z01++6Vp+fr6T9S3f9BPvVVddJXonutaU0uwioAL48ccfFz0tILn98Ic/dP7CXblypV0GY41rAmPGjJGZM2fKoUOHpFmzZq6fo6MZAqnEU0IAHz58WC688MJSwz766CNp166d80HnlltuMWMws1Yg4LYE8N///reTJLrssstEs/y0aBFAAEfEn5Udr1R+ebt27RLd0ZqqFRYWOl/FakkER2vZFRiUQNjlDy+tSXxNrn/B3njjjV4OzVg+EKAEwgeoAQ/pVgCrWSNHjhQ94eOzzz4L2Eqm85sAAthvwiEaf9q0aU6GEQFsn9PYBGefT7yyaNu2bU5JBALYK6L+jsMmOH/5BjF6JgL4vvvuc75hQwAH4Zlg50AAB8vb2tm0BKJbt26O+E11wLu1hsfEMD0GTWuA9Ri0xo0bO6tetmyZcxkGx6CFOwj0BA+tyf/73/9epn403KuKrvVVHYPWsWNH571MND2nW/dYcAyaXfHgVgBrCYSWP+gmcY5Gs8uHXliDAPaCYsjGUBGlvwBUPLVp00aOHTvmbMTZuHGj80k3+RifkC0tsuYmLsJo1apVmYsw9JxRLsIIj9vVX9dee61zqYk2rQ1duHChPPjgg04dMM1OApoYSNSAPvvss/Lxxx/LjBkzHGP125mmTZs6G4hvv/12+dWvfiXXX3+9s/FNP9hwEYYdPk3nw7/+9a/Opjf9+083wukmuOnTp8tf/vIX5xQPPc2DFi0CCOBo+dPVao4ePeqcTanHveiB/LVq1ZLOnTs7JwzoX9A0OwnoDVSjRo2Sd955R+rUqeN8gNHMMPXadvorlVUqdPW6cc326rcuukFq2LBhjl/1VAianQT0amPdQJyqaeJAz4/Vpuf+Tp06tfQq5IkTJ3IVsiUuTefDFi1aOLf96akPX3zxhXPdvG4M15MhEL+WONFjMxDAHgNlOAhAAAIQgAAEIAABuwkggO32D9ZBAAIQgAAEIAABCHhMAAHsMVCGgwAEIAABCEAAAhCwmwAC2G7/YB0EIAABCEAAAhCAgMcEEMAeA2U4CEAAAhCAAAQgAAG7CSCA7fYP1kEAAhCAAAQgAAEIeEwAAewxUIaDAAQgAAEIQAACELCbAALYbv9gHQQgAAEIQAACEICAxwQQwB4DZTgIQAACEIAABCAAAbsJIIDt9g/WQQACARPQ27smTZpUYdZLLrlE9LpUr5vOd8MNNzi3TtnQ9u3b51wJu2XLFtmzZ49ceumlzr9pEIAABKJEAAEcJW+yFghAIGcCKkinTZsmf/zjH8uMpVdOd+zYMefxyw+gVyAXFhbK6NGjPR87mwFXrVrlXAnbtWtX0eu39cpmBHA2JHkGAhCwmQAC2GbvYBsEIBA4ARXAmgH917/+FcjcXgvg//znP6JiPdumgrd69erO44MHD5YdO3YggLOFyXMQgIC1BBDA1roGwyAAARME3ArgxYsXy4wZM5wsaePGjR2xqKUTeXl5jtlFRUXyyCOPyKZNm5z/btGihdx2220yYcIEqV27ttNHxW/5tnHjRmnVqpXk5+fLihUrpH///qVdNDP7xhtvyIEDB5w/UxuGDBki7777rjz22GPOv9WOZ599VkpKSmT69OmycOFCOXjwoDRv3lxGjRolv/jFL1xjRQC7RkVHCEAgZAQQwCFzGOZCAAL+EkgI4OPHj5eZqEaNGqWCVYXv2LFjHTGp9bt79+51xO7IkSPlySefdJ57//33ZcmSJXL11VdLo0aNHKGsY/fq1Uuef/55p4/W2V555ZWOML3zzjudP7vsssvk6NGjGQlgFcvDhw93yhY0+9utWzd54IEHZNGiRY5d+ucqjh9//HF55pln5N5773UFEQHsChOdIACBEBJAAIfQaZgMAQj4R6CyTXAvvPCC3HXXXXLq1Cn57ne/64jWqVOnlhoyd+5cp4730KFDTka4fDtz5oy8/PLLMmjQIDlx4oTUqVPH6ZKqBEIzvJlkgLVmecyYMaVTfvzxx9K2bVuZP3++I4wTTUW7ruMf//hHaZlDVSQRwP7FGSNDAAJmCSCAzfJndghAwDICiU1wb7/9dhnLWrduLRdccIGsX79eevfuLTt37pSCgoLSPnp6Qvv27Z2Sh+7duzslCLNmzXJKEPbv3y9ffvllaV/NDl9++eWeCWDdpNahQ4fS8RcsWCAjRoyQI0eOSIMGDUr//A9/+INjuwrsli1bpiWPAE6LiA4QgEBICSCAQ+o4zIYABPwhkK4GeOnSpU4muLKWyBTPnDnTyQhr1rVnz55OGcT27dudMgn9d+fOnT0TwJ9//rk0bdq01KQpU6bI+PHjK7Vx8+bNTmlGuoYATkeIn0MAAmElgAAOq+ewGwIQ8IVAOgG8du1auemmm+TVV1+Viy66qIINWrqgJRB6ru+FF14ov/3tb0v7aE2wisp0Avjw4cPSrFkzUbGdqA3WQfS/tZa3/CY4zfQ2adKkdJ558+Y5Qvudd96RWrVqVbBRzzSuV69eWn4I4LSI6AABCISUAAI4pI7DbAhAwB8C6QSw1u9qDbBudtM64Mra97//fWnXrp0sX768tItumPv9739fRgCrQNUTHJIztnoUmW5m0+zx5MmTnedPnz4tF198sehmvHQCWDfc6QUWeqbvLbfckjUoBHDW6HgQAhCwnAAC2HIHYR4EIBAsgXQCWK3R48VUsOpJC1reoOfm/u1vf3ME58qVK50NbipetQZY+6oQ1myulh5oPXByBlgv11ARrGcP161bVxLZ2Z/+9KdOvfFvfvMbJ7urpzfoaRM6VzoBrDaqONdyDN0cp6dA/Pe//3VOotBj1l577bVKoRYXF8uaNWucn+txarqhTk+90Ka1zcmlFsF6htkgAAEIeEcAAewdS0aCAAQiQMCNANZlLlu2zBGGugGtZs2a0qZNG+nTp4+TzdWzgPUiDRWhKoq16Xm+ffv2dTKyyQJYyxQefPBBR9zqJRYqUHv06OFsYNMTHPRGOi1XUEGtAjbVOcDlSyB0Pt2EpwJWN8TpcwlxPWDAgCrPAk6cQJHKlQnbIuBmlgABCMScAAI45gHA8iEAAQhAAAIQgEDcCCCA4+Zx1gsBCEAAAhCAAARiTgABHPMAYPkQgAAEIAABCEAgbgQQwHHzOOuFAAQgAAEIQAACMSeAAI55ALB8CEAAAhCAAAQgEDcCCOC4eZz1QgACEIAABCAAgZgTQADHPABYPgQgAAEIQAACEIgbAQRw3DzOeiEAAQhAAAIQgEDMCSCAYx4ALB8CEIAABCAAAQjEjQACOG4eZ70QgAAEIAABCEAg5gQQwDEPAJYPAQhAAAIQgAAE4kYAARw3j7NeCEAAAhCAAAQgEHMCCOCYBwDLhwAEIAABCEAAAnEjgACOm8dZLwQgAAEIQAACEIg5gf8H+XZ0JZ7Tx5YAAAAASUVORK5CYII=\" width=\"639.9999861283738\">"
      ],
      "text/plain": [
       "<IPython.core.display.HTML object>"
      ]
     },
     "metadata": {},
     "output_type": "display_data"
    }
   ],
   "source": [
    "import matplotlib.pylab as plt\n",
    "X0=Xtrain_pca[ytrain==0]\n",
    "X1=Xtrain_pca[ytrain==1]\n",
    "\n",
    "fig, ax = plt.subplots()\n",
    "ax.set_xlabel(\"Feature 1\")\n",
    "ax.set_ylabel(\"Feature 2\")\n",
    "ax.scatter(X0[:,0], X0[:,1], color=\"green\", marker=\"+\")\n",
    "ax.scatter(X1[:,0], X1[:,1], color=\"red\", marker=\"x\")\n",
    "fig.show()"
   ]
  },
  {
   "cell_type": "code",
   "execution_count": 5,
   "metadata": {},
   "outputs": [
    {
     "name": "stdout",
     "output_type": "stream",
     "text": [
      "(400, 30)\n",
      "(400, 30)\n",
      "(400, 20)\n",
      "(400,)\n",
      "[[-1.07976537e+00 -4.22052760e-01 -5.30308537e-01  2.14491203e+00\n",
      "  -1.86681166e-01 -5.36460220e-01 -4.18427251e-01 -4.34914178e-01\n",
      "  -4.89736235e-01 -1.36201229e-01  2.69138420e-01 -8.55191996e-01\n",
      "  -2.87459215e-01  1.95325844e-02  4.45492997e-01  2.46015783e-03\n",
      "  -7.82937460e-02  9.40279105e-02  4.75165211e-02 -4.27033464e-02]\n",
      " [-2.85194933e+00 -3.79317915e-01 -9.64478761e-01 -1.67848222e+00\n",
      "  -5.32660367e-01 -4.40116779e-01  4.00235567e-02 -2.95170865e-01\n",
      "   6.89674069e-01 -5.20282243e-01  3.78937409e-01  6.53013961e-01\n",
      "  -5.67588386e-01  1.62481365e-01 -2.17500305e-02  7.32754948e-01\n",
      "   4.34148318e-01 -3.00949017e-01  2.05278856e-03 -6.68736639e-01]\n",
      " [ 4.16685970e+00 -3.86647968e-01  1.30873361e+00  6.87335175e-01\n",
      "  -4.17940621e-02 -1.07401502e+00 -3.48430780e-01 -3.43626034e-01\n",
      "   6.41824298e-03  2.31416772e-01 -9.02294918e-01 -3.92515514e-02\n",
      "   5.65873002e-01  5.82573108e-01  9.23266834e-02  3.35635945e-01\n",
      "   4.80927744e-03  8.22077313e-02 -2.07123489e-01  1.86802043e-01]\n",
      " [ 3.68937737e+00 -2.15549683e+00 -1.69016378e+00 -8.86458943e-01\n",
      "   4.08976834e-01  1.64757225e+00 -3.72045502e-01  6.26743960e-01\n",
      "   1.43922453e-01  5.25491226e-01  6.15537892e-01 -1.61875873e-01\n",
      "  -1.48650002e-01 -3.86670751e-01  3.99962446e-01 -2.45383257e-01\n",
      "  -2.65256721e-01  5.22646998e-01 -5.34100346e-02  1.76413141e-01]\n",
      " [ 2.69525946e+00 -3.94834452e+00  1.34012888e+00  1.34874041e-01\n",
      "   1.36340709e+00 -8.38972691e-01 -4.98172404e-01  9.49212796e-01\n",
      "  -5.45285538e-01  4.65295211e-02  1.11800466e-01  3.75784574e-01\n",
      "  -5.21321448e-01  2.72982202e-01 -1.32635019e-01 -5.12567974e-01\n",
      "  -1.48878792e-01 -1.57001413e-01 -2.13788109e-01  1.22772673e-01]]\n",
      "[0 0 1 1 1]\n"
     ]
    }
   ],
   "source": [
    "from sklearn.decomposition import PCA\n",
    "pca =PCA(n_components=20) #n_components, it means the whole features are decomposed into 2 features\n",
    "pca.fit(X_normalize)\n",
    "Xtrain_pca=pca.transform(X_normalize)\n",
    "print(X_normalize.shape)\n",
    "print(Xtrain.shape)\n",
    "print(Xtrain_pca.shape)\n",
    "print(ytrain.shape)\n",
    "print(Xtrain_pca[:5])\n",
    "print(ytrain[:5])"
   ]
  },
  {
   "cell_type": "code",
   "execution_count": 6,
   "metadata": {},
   "outputs": [],
   "source": [
    "from sklearn.model_selection import train_test_split\n",
    "from sklearn.linear_model import LogisticRegression\n",
    "\n",
    "Xtrain, Xtest, ytrain, ytest = train_test_split(Xtrain_pca, ytrain, test_size=1/4, random_state=0)"
   ]
  },
  {
   "cell_type": "code",
   "execution_count": 7,
   "metadata": {},
   "outputs": [
    {
     "data": {
      "text/plain": [
       "KNeighborsClassifier(algorithm='auto', leaf_size=30, metric='minkowski',\n",
       "                     metric_params=None, n_jobs=None, n_neighbors=5, p=2,\n",
       "                     weights='uniform')"
      ]
     },
     "execution_count": 7,
     "metadata": {},
     "output_type": "execute_result"
    }
   ],
   "source": [
    "from sklearn.neighbors import KNeighborsClassifier\n",
    "classifier = KNeighborsClassifier()\n",
    "classifier.fit(Xtrain, ytrain)"
   ]
  },
  {
   "cell_type": "code",
   "execution_count": 8,
   "metadata": {},
   "outputs": [
    {
     "name": "stdout",
     "output_type": "stream",
     "text": [
      "[0 1 0 1 0 0 0 0 0 1 0 0 1 0 0 0 0 0 0 1 0 0 0 0 0 0 0 0 0 0 1 1 1 0 0 1 0\n",
      " 0 1 0 0 0 0 0 0 0 1 1 0 1 0 0 0 1 0 0 1 0 0 0 0 0 1 1 0 1 0 0 1 0 1 0 0 0\n",
      " 0 0 0 0 1 1 0 1 1 1 0 0 1 1 0 0 0 0 0 0 1 1 1 0 0 1]\n"
     ]
    }
   ],
   "source": [
    "ypred = classifier.predict(Xtest)\n",
    "print(ypred)"
   ]
  },
  {
   "cell_type": "code",
   "execution_count": 9,
   "metadata": {},
   "outputs": [
    {
     "data": {
      "text/plain": [
       "0.94"
      ]
     },
     "execution_count": 9,
     "metadata": {},
     "output_type": "execute_result"
    }
   ],
   "source": [
    "from sklearn.metrics import accuracy_score\n",
    "accuracy_score(ytest,ypred)"
   ]
  },
  {
   "cell_type": "code",
   "execution_count": 10,
   "metadata": {},
   "outputs": [
    {
     "name": "stdout",
     "output_type": "stream",
     "text": [
      "[[63  0]\n",
      " [ 6 31]]\n",
      "              precision    recall  f1-score   support\n",
      "\n",
      "           0       0.91      1.00      0.95        63\n",
      "           1       1.00      0.84      0.91        37\n",
      "\n",
      "    accuracy                           0.94       100\n",
      "   macro avg       0.96      0.92      0.93       100\n",
      "weighted avg       0.95      0.94      0.94       100\n",
      "\n"
     ]
    }
   ],
   "source": [
    "from sklearn.metrics import classification_report, confusion_matrix\n",
    "print(confusion_matrix(ytest, ypred))\n",
    "print(classification_report(ytest, ypred))"
   ]
  },
  {
   "cell_type": "code",
   "execution_count": 11,
   "metadata": {
    "scrolled": true
   },
   "outputs": [
    {
     "name": "stdout",
     "output_type": "stream",
     "text": [
      "Best Hyper Parameters:\n",
      " {'n_neighbors': 3, 'weights': 'uniform'}\n",
      "Accuracy: 0.94\n",
      "Confusion Metrix:\n",
      " [[62  5]\n",
      " [ 1 32]]\n"
     ]
    }
   ],
   "source": [
    "from sklearn.model_selection import GridSearchCV\n",
    "\n",
    "#Hyper Parameters Set\n",
    "n_neighbors = list(range(1,30))\n",
    "params = {'n_neighbors':n_neighbors, 'weights':['uniform', 'distance'],}\n",
    "\n",
    "#Making models with hyper parameters sets\n",
    "model = GridSearchCV(classifier, param_grid=params, cv=4)\n",
    "\n",
    "#Learning\n",
    "model.fit(Xtrain,ytrain)\n",
    "\n",
    "#The best hyper parameters set\n",
    "print(\"Best Hyper Parameters:\\n\",model.best_params_)\n",
    "\n",
    "#Prediction\n",
    "ypred=model.predict(Xtest)\n",
    "\n",
    "#importing the metrics module\n",
    "from sklearn import metrics\n",
    "\n",
    "#evaluation(Accuracy)\n",
    "print(\"Accuracy:\",metrics.accuracy_score(ypred,ytest))\n",
    "\n",
    "#evaluation(Confusion Metrix)\n",
    "print(\"Confusion Metrix:\\n\",metrics.confusion_matrix(ypred,ytest))"
   ]
  },
  {
   "cell_type": "code",
   "execution_count": 12,
   "metadata": {},
   "outputs": [
    {
     "name": "stdout",
     "output_type": "stream",
     "text": [
      "(400, 20)\n",
      "(300,)\n"
     ]
    },
    {
     "data": {
      "text/plain": [
       "KNeighborsClassifier(algorithm='auto', leaf_size=30, metric='minkowski',\n",
       "                     metric_params=None, n_jobs=None, n_neighbors=3, p=2,\n",
       "                     weights='uniform')"
      ]
     },
     "execution_count": 12,
     "metadata": {},
     "output_type": "execute_result"
    }
   ],
   "source": [
    "# train your model using all data and the best known parameters\n",
    "knn_best = KNeighborsClassifier(n_neighbors=3, weights='uniform')\n",
    "print(Xtrain_pca.shape)\n",
    "print(ytrain.shape)\n",
    "# Can not use here Xtrain_pca beacuse of different shape\n",
    "knn_best.fit(Xtrain,ytrain)"
   ]
  },
  {
   "cell_type": "code",
   "execution_count": 13,
   "metadata": {},
   "outputs": [
    {
     "name": "stdout",
     "output_type": "stream",
     "text": [
      "Xtest shape (30, 169)\n",
      "Xtest shape after reshape (169, 30)\n",
      "[[1.364e+01 1.560e+01 8.738e+01 5.753e+02 9.423e-02]\n",
      " [1.051e+01 2.019e+01 6.864e+01 3.342e+02 1.122e-01]\n",
      " [2.044e+01 2.178e+01 1.338e+02 1.293e+03 9.150e-02]\n",
      " [1.130e+01 1.819e+01 7.393e+01 3.894e+02 9.592e-02]\n",
      " [1.185e+01 1.746e+01 7.554e+01 4.327e+02 8.372e-02]]\n"
     ]
    }
   ],
   "source": [
    "# Predict the values of given test data after finding best knn through crossvalidation\n",
    "Xtest = mat[\"cancerTestX\"]\n",
    "print(\"Xtest shape\",Xtest.shape)\n",
    "Xtest = np.transpose(Xtest)\n",
    "print(\"Xtest shape after reshape\",Xtest.shape)\n",
    "print(Xtest[:5,:5])"
   ]
  },
  {
   "cell_type": "code",
   "execution_count": 14,
   "metadata": {},
   "outputs": [
    {
     "name": "stdout",
     "output_type": "stream",
     "text": [
      "[[-0.12835569 -0.85496396 -0.1811645  -0.2245659  -0.21499179]\n",
      " [-0.98074611  0.17538403 -0.92366372 -0.90119623  1.12917386]\n",
      " [ 1.72348294  0.53230196  1.65804648  1.78960908 -0.41919726]\n",
      " [-0.76560604 -0.27356934 -0.71406816 -0.74628128 -0.08857888]\n",
      " [-0.61582497 -0.43743732 -0.6502782  -0.62476285 -1.00114543]]\n"
     ]
    }
   ],
   "source": [
    "Xtest_normalize = scaler.fit_transform(Xtest)\n",
    "print(Xtest_normalize[:5,:5])"
   ]
  },
  {
   "cell_type": "code",
   "execution_count": 15,
   "metadata": {},
   "outputs": [
    {
     "name": "stdout",
     "output_type": "stream",
     "text": [
      "(169, 30)\n",
      "(169, 20)\n"
     ]
    }
   ],
   "source": [
    "from sklearn.decomposition import PCA\n",
    "pca =PCA(n_components=20) #n_components means the whole features are decomposed into 2 features\n",
    "pca.fit(Xtest_normalize)\n",
    "Xtest_pca=pca.transform(Xtest_normalize)\n",
    "print(Xtest_normalize.shape)\n",
    "print(Xtest_pca.shape)"
   ]
  },
  {
   "cell_type": "code",
   "execution_count": 16,
   "metadata": {},
   "outputs": [
    {
     "name": "stdout",
     "output_type": "stream",
     "text": [
      "[0 0 1 0 0 1 0 0 1 0 1 0 0 0 0 0 0 0 0 0 0 0 0 0 1 0 0 1 0 0 1 1 0 0 1 1 0\n",
      " 0 0 0 1 1 1 1 0 0 1 0 0 0 0 0 1 0 0 0 1 0 0 1 1 1 0 1 0 0 0 1 0 1 1 0 0 1\n",
      " 0 1 0 0 0 1 1 0 1 1 0 1 1 1 1 0 1 1 0 1 0 0 0 0 0 0 0 0 0 1 1 1 1 1 0 0 1\n",
      " 1 0 0 0 0 0 0 1 0 0 0 1 1 1 1 1 0 1 0 1 1 1 0 1 1 0 0 0 0 0 1 0 0 0 1 1 0\n",
      " 0 0 0 0 1 0 0 0 0 0 0 0 0 0 0 0 0 0 1 1 0]\n"
     ]
    }
   ],
   "source": [
    "#Prediction\n",
    "cancerTesty=knn_best.predict(Xtest_pca)\n",
    "print(cancerTesty)"
   ]
  },
  {
   "cell_type": "code",
   "execution_count": 17,
   "metadata": {},
   "outputs": [
    {
     "name": "stdout",
     "output_type": "stream",
     "text": [
      "ytrain shape (1, 400)\n",
      "ytrain shape after reshape (400,)\n"
     ]
    },
    {
     "data": {
      "text/plain": [
       "SVC(C=1, cache_size=200, class_weight=None, coef0=0.0,\n",
       "    decision_function_shape='ovr', degree=3, gamma='auto', kernel='linear',\n",
       "    max_iter=-1, probability=False, random_state=None, shrinking=True,\n",
       "    tol=0.001, verbose=False)"
      ]
     },
     "execution_count": 17,
     "metadata": {},
     "output_type": "execute_result"
    }
   ],
   "source": [
    "ytrain = mat[\"cancerTrainY\"] # matrix of 1 rows and 400 features\n",
    "print(\"ytrain shape\",ytrain.shape)\n",
    "ytrain = np.ravel(ytrain)\n",
    "#ytrain = ytrain.reshape(n,1)\n",
    "print(\"ytrain shape after reshape\",ytrain.shape)\n",
    "\n",
    "from sklearn.svm import SVC\n",
    "from sklearn.model_selection import cross_val_score\n",
    "classification_model1 = SVC(kernel='linear', C=1, gamma='auto')\n",
    "classification_model1.fit(Xtrain_pca, ytrain)"
   ]
  },
  {
   "cell_type": "code",
   "execution_count": 18,
   "metadata": {},
   "outputs": [
    {
     "name": "stdout",
     "output_type": "stream",
     "text": [
      "[0.95   0.9875 0.9875 0.95   0.9875]\n",
      "cv_scores mean:0.9724999999999999\n"
     ]
    }
   ],
   "source": [
    "# Using cross-validation instead of train_test_split because we have less data\n",
    "cv_scores = cross_val_score(classification_model1, Xtrain_pca, ytrain, cv=5, scoring='accuracy')\n",
    "print(cv_scores)\n",
    "print('cv_scores mean:{}'.format(np.mean(cv_scores)))"
   ]
  },
  {
   "cell_type": "code",
   "execution_count": 19,
   "metadata": {},
   "outputs": [
    {
     "data": {
      "text/plain": [
       "SVC(C=1.0, cache_size=200, class_weight=None, coef0=0.0,\n",
       "    decision_function_shape='ovr', degree=5, gamma='auto', kernel='poly',\n",
       "    max_iter=-1, probability=False, random_state=None, shrinking=True,\n",
       "    tol=0.001, verbose=False)"
      ]
     },
     "execution_count": 19,
     "metadata": {},
     "output_type": "execute_result"
    }
   ],
   "source": [
    "from sklearn.svm import SVC\n",
    "classification_model2 = SVC(kernel='poly', degree=5, gamma='auto')\n",
    "classification_model2.fit(Xtrain_pca, ytrain)"
   ]
  },
  {
   "cell_type": "code",
   "execution_count": 20,
   "metadata": {},
   "outputs": [
    {
     "name": "stdout",
     "output_type": "stream",
     "text": [
      "[0.8375 0.875  0.8875 0.8625 0.9   ]\n",
      "cv_scores mean:0.8724999999999999\n"
     ]
    }
   ],
   "source": [
    "# Using cross-validation instead of train_test_split because we have less data\n",
    "cv_scores = cross_val_score(classification_model2, Xtrain_pca, ytrain, cv=5, scoring='accuracy')\n",
    "print(cv_scores)\n",
    "print('cv_scores mean:{}'.format(np.mean(cv_scores)))"
   ]
  },
  {
   "cell_type": "code",
   "execution_count": 21,
   "metadata": {},
   "outputs": [
    {
     "data": {
      "text/plain": [
       "SVC(C=1.0, cache_size=200, class_weight=None, coef0=0.0,\n",
       "    decision_function_shape='ovr', degree=3, gamma='auto', kernel='rbf',\n",
       "    max_iter=-1, probability=False, random_state=None, shrinking=True,\n",
       "    tol=0.001, verbose=False)"
      ]
     },
     "execution_count": 21,
     "metadata": {},
     "output_type": "execute_result"
    }
   ],
   "source": [
    "from sklearn.svm import SVC\n",
    "classification_model3 = SVC(kernel='rbf', gamma='auto')\n",
    "classification_model3.fit(Xtrain_pca, ytrain)"
   ]
  },
  {
   "cell_type": "code",
   "execution_count": 22,
   "metadata": {},
   "outputs": [
    {
     "name": "stdout",
     "output_type": "stream",
     "text": [
      "[0.9375 0.9875 0.9875 0.975  0.975 ]\n",
      "cv_scores mean:0.9724999999999999\n"
     ]
    }
   ],
   "source": [
    "# Using cross-validation instead of train_test_split because we have less data\n",
    "cv_scores = cross_val_score(classification_model3, Xtrain_pca, ytrain, cv=5, scoring='accuracy')\n",
    "print(cv_scores)\n",
    "print('cv_scores mean:{}'.format(np.mean(cv_scores)))"
   ]
  },
  {
   "cell_type": "code",
   "execution_count": 23,
   "metadata": {},
   "outputs": [
    {
     "data": {
      "text/plain": [
       "GridSearchCV(cv=5, error_score='raise-deprecating',\n",
       "             estimator=SVC(C=1.0, cache_size=200, class_weight=None, coef0=0.0,\n",
       "                           decision_function_shape='ovr', degree=3,\n",
       "                           gamma='auto_deprecated', kernel='rbf', max_iter=-1,\n",
       "                           probability=False, random_state=None, shrinking=True,\n",
       "                           tol=0.001, verbose=False),\n",
       "             iid='warn', n_jobs=None,\n",
       "             param_grid={'C': [0.1, 1, 10, 100, 1000], 'degree': [3, 8],\n",
       "                         'gamma': ['auto', 'scale'],\n",
       "                         'kernel': ['linear', 'poly', 'rbf', 'sigmoid']},\n",
       "             pre_dispatch='2*n_jobs', refit=True, return_train_score=False,\n",
       "             scoring=None, verbose=0)"
      ]
     },
     "execution_count": 23,
     "metadata": {},
     "output_type": "execute_result"
    }
   ],
   "source": [
    "# search for an optimal value of K for KNN\n",
    "from sklearn.model_selection import GridSearchCV\n",
    "  \n",
    "# defining parameter range \n",
    "param_grid = {'C': [0.1, 1, 10, 100, 1000], 'degree': [3, 8], 'gamma': ['auto', 'scale'], 'kernel': ['linear','poly','rbf','sigmoid']}  \n",
    "  \n",
    "grid = GridSearchCV(SVC(), param_grid, cv = 5) \n",
    "  \n",
    "# fitting the model for grid search \n",
    "grid.fit(Xtrain_pca, ytrain) "
   ]
  },
  {
   "cell_type": "code",
   "execution_count": 24,
   "metadata": {},
   "outputs": [
    {
     "name": "stdout",
     "output_type": "stream",
     "text": [
      "Best Scores:\n",
      " 0.9775\n",
      "Best Hyper Parameters:\n",
      " {'C': 0.1, 'degree': 3, 'gamma': 'auto', 'kernel': 'linear'}\n"
     ]
    }
   ],
   "source": [
    "#The best hyper parameters set\n",
    "print(\"Best Scores:\\n\",grid.best_score_)\n",
    "print(\"Best Hyper Parameters:\\n\",grid.best_params_)"
   ]
  },
  {
   "cell_type": "code",
   "execution_count": 25,
   "metadata": {},
   "outputs": [
    {
     "data": {
      "text/plain": [
       "SVC(C=10, cache_size=200, class_weight=None, coef0=0.0,\n",
       "    decision_function_shape='ovr', degree=3, gamma='auto', kernel='linear',\n",
       "    max_iter=-1, probability=False, random_state=None, shrinking=True,\n",
       "    tol=0.001, verbose=False)"
      ]
     },
     "execution_count": 25,
     "metadata": {},
     "output_type": "execute_result"
    }
   ],
   "source": [
    "from sklearn.svm import SVC\n",
    "best = SVC(kernel='linear', gamma='auto', C=10, degree=3)\n",
    "best.fit(Xtrain_pca, ytrain)"
   ]
  },
  {
   "cell_type": "code",
   "execution_count": 26,
   "metadata": {},
   "outputs": [
    {
     "name": "stdout",
     "output_type": "stream",
     "text": [
      "[0.95   1.     0.9875 0.9625 0.9875]\n",
      "cv_scores mean:0.9775\n"
     ]
    }
   ],
   "source": [
    "# Using cross-validation instead of train_test_split because we have less data\n",
    "cv_scores = cross_val_score(best, Xtrain_pca, ytrain, cv=5, scoring='accuracy')\n",
    "print(cv_scores)\n",
    "print('cv_scores mean:{}'.format(np.mean(cv_scores)))"
   ]
  },
  {
   "cell_type": "code",
   "execution_count": 27,
   "metadata": {},
   "outputs": [
    {
     "name": "stdout",
     "output_type": "stream",
     "text": [
      "Xtest shape (30, 169)\n",
      "Xtest shape after reshape (169, 30)\n",
      "[[1.364e+01 1.560e+01 8.738e+01 5.753e+02 9.423e-02]\n",
      " [1.051e+01 2.019e+01 6.864e+01 3.342e+02 1.122e-01]\n",
      " [2.044e+01 2.178e+01 1.338e+02 1.293e+03 9.150e-02]\n",
      " [1.130e+01 1.819e+01 7.393e+01 3.894e+02 9.592e-02]\n",
      " [1.185e+01 1.746e+01 7.554e+01 4.327e+02 8.372e-02]]\n"
     ]
    }
   ],
   "source": [
    "# Predict the values of given test data after finding best knn through crossvalidation\n",
    "Xtest = mat[\"cancerTestX\"]\n",
    "print(\"Xtest shape\",Xtest.shape)\n",
    "Xtest = np.transpose(Xtest)\n",
    "print(\"Xtest shape after reshape\",Xtest.shape)\n",
    "print(Xtest[:5,:5])"
   ]
  },
  {
   "cell_type": "code",
   "execution_count": 28,
   "metadata": {},
   "outputs": [
    {
     "name": "stdout",
     "output_type": "stream",
     "text": [
      "[[-0.12835569 -0.85496396 -0.1811645  -0.2245659  -0.21499179]\n",
      " [-0.98074611  0.17538403 -0.92366372 -0.90119623  1.12917386]\n",
      " [ 1.72348294  0.53230196  1.65804648  1.78960908 -0.41919726]\n",
      " [-0.76560604 -0.27356934 -0.71406816 -0.74628128 -0.08857888]\n",
      " [-0.61582497 -0.43743732 -0.6502782  -0.62476285 -1.00114543]]\n"
     ]
    }
   ],
   "source": [
    "Xtest_normalize = scaler.fit_transform(Xtest)\n",
    "print(Xtest_normalize[:5,:5])"
   ]
  },
  {
   "cell_type": "code",
   "execution_count": 29,
   "metadata": {},
   "outputs": [
    {
     "name": "stdout",
     "output_type": "stream",
     "text": [
      "(169, 30)\n"
     ]
    }
   ],
   "source": [
    "from sklearn.decomposition import PCA\n",
    "pca =PCA(n_components=20) #n_components means the whole features are decomposed into 2 features\n",
    "pca.fit(Xtest_normalize)\n",
    "Xtest_pca=pca.transform(Xtest_normalize)\n",
    "print(Xtest_normalize.shape)"
   ]
  },
  {
   "cell_type": "code",
   "execution_count": 30,
   "metadata": {},
   "outputs": [
    {
     "name": "stdout",
     "output_type": "stream",
     "text": [
      "Prediction using SVM:\n",
      "[0 0 1 0 0 1 0 0 1 0 1 0 0 0 0 0 1 0 0 0 0 0 0 0 1 0 0 1 0 0 1 1 1 1 1 1 0\n",
      " 0 0 0 1 1 1 1 0 0 1 0 0 0 0 0 1 0 0 0 1 0 0 1 1 1 0 1 0 0 0 1 0 1 1 0 0 1\n",
      " 0 1 0 0 0 1 1 0 1 1 0 1 1 0 1 1 1 1 0 1 0 0 0 0 0 0 0 0 0 1 1 1 1 1 0 0 1\n",
      " 1 1 0 0 0 0 0 1 0 1 0 1 1 1 1 1 0 1 0 1 1 1 0 1 1 0 0 0 0 0 1 0 0 0 1 1 0\n",
      " 0 0 1 0 1 0 0 1 0 0 0 0 0 0 0 0 0 0 1 1 0]\n"
     ]
    }
   ],
   "source": [
    "#Prediction\n",
    "print(\"Prediction using SVM:\")\n",
    "cancerTesty=best.predict(Xtest_pca)\n",
    "print(cancerTesty)"
   ]
  },
  {
   "cell_type": "code",
   "execution_count": 31,
   "metadata": {},
   "outputs": [
    {
     "name": "stdout",
     "output_type": "stream",
     "text": [
      "[0 0 1 0 0 1 0 0 1 0 1 0 0 0 0 0 1 0 0 0 0 0 0 0 1 0 0 1 0 0 1 1 1 1 1 1 0\n",
      " 0 0 0 1 1 1 1 0 0 1 0 0 0 0 0 1 0 0 0 1 0 0 1 1 1 0 1 0 0 0 1 0 1 1 0 0 1\n",
      " 0 1 0 0 0 1 1 0 1 1 0 1 1 0 1 1 1 1 0 1 0 0 0 0 0 0 0 0 0 1 1 1 1 1 0 0 1\n",
      " 1 1 0 0 0 0 0 1 0 1 0 1 1 1 1 1 0 1 0 1 1 1 0 1 1 0 0 0 0 0 1 0 0 0 1 1 0\n",
      " 0 0 1 0 1 0 0 1 0 0 0 0 0 0 0 0 0 0 1 1 0]\n"
     ]
    }
   ],
   "source": [
    "# Final output\n",
    "Final_Output = best.predict(Xtest_pca)\n",
    "print(Final_Output)\n"
   ]
  },
  {
   "cell_type": "code",
   "execution_count": null,
   "metadata": {},
   "outputs": [],
   "source": []
  }
 ],
 "metadata": {
  "kernelspec": {
   "display_name": "Python 3",
   "language": "python",
   "name": "python3"
  },
  "language_info": {
   "codemirror_mode": {
    "name": "ipython",
    "version": 3
   },
   "file_extension": ".py",
   "mimetype": "text/x-python",
   "name": "python",
   "nbconvert_exporter": "python",
   "pygments_lexer": "ipython3",
   "version": "3.7.3"
  }
 },
 "nbformat": 4,
 "nbformat_minor": 2
}
